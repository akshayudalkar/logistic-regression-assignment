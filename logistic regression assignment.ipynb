{
 "cells": [
  {
   "cell_type": "code",
   "execution_count": 1,
   "id": "4885e428",
   "metadata": {},
   "outputs": [],
   "source": [
    "import pandas as pd\n",
    "import numpy as np\n",
    "import matplotlib.pyplot as plt\n",
    "import seaborn as sb\n",
    "import statsmodels.api as sm\n",
    "from sklearn.preprocessing import MinMaxScaler\n",
    "from sklearn.linear_model import LogisticRegression\n",
    "from sklearn.metrics import confusion_matrix, roc_auc_score, roc_curve, classification_report\n",
    "from sklearn.model_selection import train_test_split"
   ]
  },
  {
   "cell_type": "code",
   "execution_count": 2,
   "id": "abd884b5",
   "metadata": {},
   "outputs": [
    {
     "name": "stdout",
     "output_type": "stream",
     "text": [
      "['bk.zip']\n"
     ]
    }
   ],
   "source": [
    "import os\n",
    "print(os.listdir(r'C:\\Users\\hp\\OneDrive\\Documents\\bk'))"
   ]
  },
  {
   "cell_type": "code",
   "execution_count": 3,
   "id": "e20a3085",
   "metadata": {},
   "outputs": [
    {
     "data": {
      "text/html": [
       "<div>\n",
       "<style scoped>\n",
       "    .dataframe tbody tr th:only-of-type {\n",
       "        vertical-align: middle;\n",
       "    }\n",
       "\n",
       "    .dataframe tbody tr th {\n",
       "        vertical-align: top;\n",
       "    }\n",
       "\n",
       "    .dataframe thead th {\n",
       "        text-align: right;\n",
       "    }\n",
       "</style>\n",
       "<table border=\"1\" class=\"dataframe\">\n",
       "  <thead>\n",
       "    <tr style=\"text-align: right;\">\n",
       "      <th></th>\n",
       "      <th>age</th>\n",
       "      <th>job</th>\n",
       "      <th>marital</th>\n",
       "      <th>education</th>\n",
       "      <th>default</th>\n",
       "      <th>balance</th>\n",
       "      <th>housing</th>\n",
       "      <th>loan</th>\n",
       "      <th>contact</th>\n",
       "      <th>day</th>\n",
       "      <th>month</th>\n",
       "      <th>duration</th>\n",
       "      <th>campaign</th>\n",
       "      <th>pdays</th>\n",
       "      <th>previous</th>\n",
       "      <th>poutcome</th>\n",
       "      <th>y</th>\n",
       "    </tr>\n",
       "  </thead>\n",
       "  <tbody>\n",
       "    <tr>\n",
       "      <th>0</th>\n",
       "      <td>58</td>\n",
       "      <td>management</td>\n",
       "      <td>married</td>\n",
       "      <td>tertiary</td>\n",
       "      <td>no</td>\n",
       "      <td>2143</td>\n",
       "      <td>yes</td>\n",
       "      <td>no</td>\n",
       "      <td>unknown</td>\n",
       "      <td>5</td>\n",
       "      <td>may</td>\n",
       "      <td>261</td>\n",
       "      <td>1</td>\n",
       "      <td>-1</td>\n",
       "      <td>0</td>\n",
       "      <td>unknown</td>\n",
       "      <td>no</td>\n",
       "    </tr>\n",
       "    <tr>\n",
       "      <th>1</th>\n",
       "      <td>44</td>\n",
       "      <td>technician</td>\n",
       "      <td>single</td>\n",
       "      <td>secondary</td>\n",
       "      <td>no</td>\n",
       "      <td>29</td>\n",
       "      <td>yes</td>\n",
       "      <td>no</td>\n",
       "      <td>unknown</td>\n",
       "      <td>5</td>\n",
       "      <td>may</td>\n",
       "      <td>151</td>\n",
       "      <td>1</td>\n",
       "      <td>-1</td>\n",
       "      <td>0</td>\n",
       "      <td>unknown</td>\n",
       "      <td>no</td>\n",
       "    </tr>\n",
       "    <tr>\n",
       "      <th>2</th>\n",
       "      <td>33</td>\n",
       "      <td>entrepreneur</td>\n",
       "      <td>married</td>\n",
       "      <td>secondary</td>\n",
       "      <td>no</td>\n",
       "      <td>2</td>\n",
       "      <td>yes</td>\n",
       "      <td>yes</td>\n",
       "      <td>unknown</td>\n",
       "      <td>5</td>\n",
       "      <td>may</td>\n",
       "      <td>76</td>\n",
       "      <td>1</td>\n",
       "      <td>-1</td>\n",
       "      <td>0</td>\n",
       "      <td>unknown</td>\n",
       "      <td>no</td>\n",
       "    </tr>\n",
       "    <tr>\n",
       "      <th>3</th>\n",
       "      <td>47</td>\n",
       "      <td>blue-collar</td>\n",
       "      <td>married</td>\n",
       "      <td>unknown</td>\n",
       "      <td>no</td>\n",
       "      <td>1506</td>\n",
       "      <td>yes</td>\n",
       "      <td>no</td>\n",
       "      <td>unknown</td>\n",
       "      <td>5</td>\n",
       "      <td>may</td>\n",
       "      <td>92</td>\n",
       "      <td>1</td>\n",
       "      <td>-1</td>\n",
       "      <td>0</td>\n",
       "      <td>unknown</td>\n",
       "      <td>no</td>\n",
       "    </tr>\n",
       "    <tr>\n",
       "      <th>4</th>\n",
       "      <td>33</td>\n",
       "      <td>unknown</td>\n",
       "      <td>single</td>\n",
       "      <td>unknown</td>\n",
       "      <td>no</td>\n",
       "      <td>1</td>\n",
       "      <td>no</td>\n",
       "      <td>no</td>\n",
       "      <td>unknown</td>\n",
       "      <td>5</td>\n",
       "      <td>may</td>\n",
       "      <td>198</td>\n",
       "      <td>1</td>\n",
       "      <td>-1</td>\n",
       "      <td>0</td>\n",
       "      <td>unknown</td>\n",
       "      <td>no</td>\n",
       "    </tr>\n",
       "    <tr>\n",
       "      <th>...</th>\n",
       "      <td>...</td>\n",
       "      <td>...</td>\n",
       "      <td>...</td>\n",
       "      <td>...</td>\n",
       "      <td>...</td>\n",
       "      <td>...</td>\n",
       "      <td>...</td>\n",
       "      <td>...</td>\n",
       "      <td>...</td>\n",
       "      <td>...</td>\n",
       "      <td>...</td>\n",
       "      <td>...</td>\n",
       "      <td>...</td>\n",
       "      <td>...</td>\n",
       "      <td>...</td>\n",
       "      <td>...</td>\n",
       "      <td>...</td>\n",
       "    </tr>\n",
       "    <tr>\n",
       "      <th>45206</th>\n",
       "      <td>51</td>\n",
       "      <td>technician</td>\n",
       "      <td>married</td>\n",
       "      <td>tertiary</td>\n",
       "      <td>no</td>\n",
       "      <td>825</td>\n",
       "      <td>no</td>\n",
       "      <td>no</td>\n",
       "      <td>cellular</td>\n",
       "      <td>17</td>\n",
       "      <td>nov</td>\n",
       "      <td>977</td>\n",
       "      <td>3</td>\n",
       "      <td>-1</td>\n",
       "      <td>0</td>\n",
       "      <td>unknown</td>\n",
       "      <td>yes</td>\n",
       "    </tr>\n",
       "    <tr>\n",
       "      <th>45207</th>\n",
       "      <td>71</td>\n",
       "      <td>retired</td>\n",
       "      <td>divorced</td>\n",
       "      <td>primary</td>\n",
       "      <td>no</td>\n",
       "      <td>1729</td>\n",
       "      <td>no</td>\n",
       "      <td>no</td>\n",
       "      <td>cellular</td>\n",
       "      <td>17</td>\n",
       "      <td>nov</td>\n",
       "      <td>456</td>\n",
       "      <td>2</td>\n",
       "      <td>-1</td>\n",
       "      <td>0</td>\n",
       "      <td>unknown</td>\n",
       "      <td>yes</td>\n",
       "    </tr>\n",
       "    <tr>\n",
       "      <th>45208</th>\n",
       "      <td>72</td>\n",
       "      <td>retired</td>\n",
       "      <td>married</td>\n",
       "      <td>secondary</td>\n",
       "      <td>no</td>\n",
       "      <td>5715</td>\n",
       "      <td>no</td>\n",
       "      <td>no</td>\n",
       "      <td>cellular</td>\n",
       "      <td>17</td>\n",
       "      <td>nov</td>\n",
       "      <td>1127</td>\n",
       "      <td>5</td>\n",
       "      <td>184</td>\n",
       "      <td>3</td>\n",
       "      <td>success</td>\n",
       "      <td>yes</td>\n",
       "    </tr>\n",
       "    <tr>\n",
       "      <th>45209</th>\n",
       "      <td>57</td>\n",
       "      <td>blue-collar</td>\n",
       "      <td>married</td>\n",
       "      <td>secondary</td>\n",
       "      <td>no</td>\n",
       "      <td>668</td>\n",
       "      <td>no</td>\n",
       "      <td>no</td>\n",
       "      <td>telephone</td>\n",
       "      <td>17</td>\n",
       "      <td>nov</td>\n",
       "      <td>508</td>\n",
       "      <td>4</td>\n",
       "      <td>-1</td>\n",
       "      <td>0</td>\n",
       "      <td>unknown</td>\n",
       "      <td>no</td>\n",
       "    </tr>\n",
       "    <tr>\n",
       "      <th>45210</th>\n",
       "      <td>37</td>\n",
       "      <td>entrepreneur</td>\n",
       "      <td>married</td>\n",
       "      <td>secondary</td>\n",
       "      <td>no</td>\n",
       "      <td>2971</td>\n",
       "      <td>no</td>\n",
       "      <td>no</td>\n",
       "      <td>cellular</td>\n",
       "      <td>17</td>\n",
       "      <td>nov</td>\n",
       "      <td>361</td>\n",
       "      <td>2</td>\n",
       "      <td>188</td>\n",
       "      <td>11</td>\n",
       "      <td>other</td>\n",
       "      <td>no</td>\n",
       "    </tr>\n",
       "  </tbody>\n",
       "</table>\n",
       "<p>45211 rows × 17 columns</p>\n",
       "</div>"
      ],
      "text/plain": [
       "       age           job   marital  education default  balance housing loan  \\\n",
       "0       58    management   married   tertiary      no     2143     yes   no   \n",
       "1       44    technician    single  secondary      no       29     yes   no   \n",
       "2       33  entrepreneur   married  secondary      no        2     yes  yes   \n",
       "3       47   blue-collar   married    unknown      no     1506     yes   no   \n",
       "4       33       unknown    single    unknown      no        1      no   no   \n",
       "...    ...           ...       ...        ...     ...      ...     ...  ...   \n",
       "45206   51    technician   married   tertiary      no      825      no   no   \n",
       "45207   71       retired  divorced    primary      no     1729      no   no   \n",
       "45208   72       retired   married  secondary      no     5715      no   no   \n",
       "45209   57   blue-collar   married  secondary      no      668      no   no   \n",
       "45210   37  entrepreneur   married  secondary      no     2971      no   no   \n",
       "\n",
       "         contact  day month  duration  campaign  pdays  previous poutcome    y  \n",
       "0        unknown    5   may       261         1     -1         0  unknown   no  \n",
       "1        unknown    5   may       151         1     -1         0  unknown   no  \n",
       "2        unknown    5   may        76         1     -1         0  unknown   no  \n",
       "3        unknown    5   may        92         1     -1         0  unknown   no  \n",
       "4        unknown    5   may       198         1     -1         0  unknown   no  \n",
       "...          ...  ...   ...       ...       ...    ...       ...      ...  ...  \n",
       "45206   cellular   17   nov       977         3     -1         0  unknown  yes  \n",
       "45207   cellular   17   nov       456         2     -1         0  unknown  yes  \n",
       "45208   cellular   17   nov      1127         5    184         3  success  yes  \n",
       "45209  telephone   17   nov       508         4     -1         0  unknown   no  \n",
       "45210   cellular   17   nov       361         2    188        11    other   no  \n",
       "\n",
       "[45211 rows x 17 columns]"
      ]
     },
     "execution_count": 3,
     "metadata": {},
     "output_type": "execute_result"
    }
   ],
   "source": [
    "data=pd.read_csv('bk.zip')\n",
    "data"
   ]
  },
  {
   "cell_type": "markdown",
   "id": "10465da8",
   "metadata": {},
   "source": [
    "# EDA"
   ]
  },
  {
   "cell_type": "code",
   "execution_count": 4,
   "id": "0f4f4cd9",
   "metadata": {},
   "outputs": [
    {
     "data": {
      "text/html": [
       "<div>\n",
       "<style scoped>\n",
       "    .dataframe tbody tr th:only-of-type {\n",
       "        vertical-align: middle;\n",
       "    }\n",
       "\n",
       "    .dataframe tbody tr th {\n",
       "        vertical-align: top;\n",
       "    }\n",
       "\n",
       "    .dataframe thead th {\n",
       "        text-align: right;\n",
       "    }\n",
       "</style>\n",
       "<table border=\"1\" class=\"dataframe\">\n",
       "  <thead>\n",
       "    <tr style=\"text-align: right;\">\n",
       "      <th></th>\n",
       "      <th>age</th>\n",
       "      <th>job</th>\n",
       "      <th>marital</th>\n",
       "      <th>education</th>\n",
       "      <th>default</th>\n",
       "      <th>balance</th>\n",
       "      <th>housing</th>\n",
       "      <th>loan</th>\n",
       "      <th>contact</th>\n",
       "      <th>day</th>\n",
       "      <th>month</th>\n",
       "      <th>duration</th>\n",
       "      <th>campaign</th>\n",
       "      <th>pdays</th>\n",
       "      <th>previous</th>\n",
       "      <th>poutcome</th>\n",
       "      <th>y</th>\n",
       "    </tr>\n",
       "  </thead>\n",
       "  <tbody>\n",
       "    <tr>\n",
       "      <th>0</th>\n",
       "      <td>58</td>\n",
       "      <td>management</td>\n",
       "      <td>married</td>\n",
       "      <td>tertiary</td>\n",
       "      <td>no</td>\n",
       "      <td>2143</td>\n",
       "      <td>yes</td>\n",
       "      <td>no</td>\n",
       "      <td>unknown</td>\n",
       "      <td>5</td>\n",
       "      <td>may</td>\n",
       "      <td>261</td>\n",
       "      <td>1</td>\n",
       "      <td>-1</td>\n",
       "      <td>0</td>\n",
       "      <td>unknown</td>\n",
       "      <td>no</td>\n",
       "    </tr>\n",
       "    <tr>\n",
       "      <th>1</th>\n",
       "      <td>44</td>\n",
       "      <td>technician</td>\n",
       "      <td>single</td>\n",
       "      <td>secondary</td>\n",
       "      <td>no</td>\n",
       "      <td>29</td>\n",
       "      <td>yes</td>\n",
       "      <td>no</td>\n",
       "      <td>unknown</td>\n",
       "      <td>5</td>\n",
       "      <td>may</td>\n",
       "      <td>151</td>\n",
       "      <td>1</td>\n",
       "      <td>-1</td>\n",
       "      <td>0</td>\n",
       "      <td>unknown</td>\n",
       "      <td>no</td>\n",
       "    </tr>\n",
       "    <tr>\n",
       "      <th>2</th>\n",
       "      <td>33</td>\n",
       "      <td>entrepreneur</td>\n",
       "      <td>married</td>\n",
       "      <td>secondary</td>\n",
       "      <td>no</td>\n",
       "      <td>2</td>\n",
       "      <td>yes</td>\n",
       "      <td>yes</td>\n",
       "      <td>unknown</td>\n",
       "      <td>5</td>\n",
       "      <td>may</td>\n",
       "      <td>76</td>\n",
       "      <td>1</td>\n",
       "      <td>-1</td>\n",
       "      <td>0</td>\n",
       "      <td>unknown</td>\n",
       "      <td>no</td>\n",
       "    </tr>\n",
       "    <tr>\n",
       "      <th>3</th>\n",
       "      <td>47</td>\n",
       "      <td>blue-collar</td>\n",
       "      <td>married</td>\n",
       "      <td>unknown</td>\n",
       "      <td>no</td>\n",
       "      <td>1506</td>\n",
       "      <td>yes</td>\n",
       "      <td>no</td>\n",
       "      <td>unknown</td>\n",
       "      <td>5</td>\n",
       "      <td>may</td>\n",
       "      <td>92</td>\n",
       "      <td>1</td>\n",
       "      <td>-1</td>\n",
       "      <td>0</td>\n",
       "      <td>unknown</td>\n",
       "      <td>no</td>\n",
       "    </tr>\n",
       "    <tr>\n",
       "      <th>4</th>\n",
       "      <td>33</td>\n",
       "      <td>unknown</td>\n",
       "      <td>single</td>\n",
       "      <td>unknown</td>\n",
       "      <td>no</td>\n",
       "      <td>1</td>\n",
       "      <td>no</td>\n",
       "      <td>no</td>\n",
       "      <td>unknown</td>\n",
       "      <td>5</td>\n",
       "      <td>may</td>\n",
       "      <td>198</td>\n",
       "      <td>1</td>\n",
       "      <td>-1</td>\n",
       "      <td>0</td>\n",
       "      <td>unknown</td>\n",
       "      <td>no</td>\n",
       "    </tr>\n",
       "  </tbody>\n",
       "</table>\n",
       "</div>"
      ],
      "text/plain": [
       "   age           job  marital  education default  balance housing loan  \\\n",
       "0   58    management  married   tertiary      no     2143     yes   no   \n",
       "1   44    technician   single  secondary      no       29     yes   no   \n",
       "2   33  entrepreneur  married  secondary      no        2     yes  yes   \n",
       "3   47   blue-collar  married    unknown      no     1506     yes   no   \n",
       "4   33       unknown   single    unknown      no        1      no   no   \n",
       "\n",
       "   contact  day month  duration  campaign  pdays  previous poutcome   y  \n",
       "0  unknown    5   may       261         1     -1         0  unknown  no  \n",
       "1  unknown    5   may       151         1     -1         0  unknown  no  \n",
       "2  unknown    5   may        76         1     -1         0  unknown  no  \n",
       "3  unknown    5   may        92         1     -1         0  unknown  no  \n",
       "4  unknown    5   may       198         1     -1         0  unknown  no  "
      ]
     },
     "execution_count": 4,
     "metadata": {},
     "output_type": "execute_result"
    }
   ],
   "source": [
    "data.head(5)"
   ]
  },
  {
   "cell_type": "code",
   "execution_count": 5,
   "id": "ae41e3a3",
   "metadata": {},
   "outputs": [
    {
     "data": {
      "text/html": [
       "<div>\n",
       "<style scoped>\n",
       "    .dataframe tbody tr th:only-of-type {\n",
       "        vertical-align: middle;\n",
       "    }\n",
       "\n",
       "    .dataframe tbody tr th {\n",
       "        vertical-align: top;\n",
       "    }\n",
       "\n",
       "    .dataframe thead th {\n",
       "        text-align: right;\n",
       "    }\n",
       "</style>\n",
       "<table border=\"1\" class=\"dataframe\">\n",
       "  <thead>\n",
       "    <tr style=\"text-align: right;\">\n",
       "      <th></th>\n",
       "      <th>age</th>\n",
       "      <th>job</th>\n",
       "      <th>marital</th>\n",
       "      <th>education</th>\n",
       "      <th>default</th>\n",
       "      <th>balance</th>\n",
       "      <th>housing</th>\n",
       "      <th>loan</th>\n",
       "      <th>contact</th>\n",
       "      <th>day</th>\n",
       "      <th>month</th>\n",
       "      <th>duration</th>\n",
       "      <th>campaign</th>\n",
       "      <th>pdays</th>\n",
       "      <th>previous</th>\n",
       "      <th>poutcome</th>\n",
       "      <th>y</th>\n",
       "    </tr>\n",
       "  </thead>\n",
       "  <tbody>\n",
       "    <tr>\n",
       "      <th>45206</th>\n",
       "      <td>51</td>\n",
       "      <td>technician</td>\n",
       "      <td>married</td>\n",
       "      <td>tertiary</td>\n",
       "      <td>no</td>\n",
       "      <td>825</td>\n",
       "      <td>no</td>\n",
       "      <td>no</td>\n",
       "      <td>cellular</td>\n",
       "      <td>17</td>\n",
       "      <td>nov</td>\n",
       "      <td>977</td>\n",
       "      <td>3</td>\n",
       "      <td>-1</td>\n",
       "      <td>0</td>\n",
       "      <td>unknown</td>\n",
       "      <td>yes</td>\n",
       "    </tr>\n",
       "    <tr>\n",
       "      <th>45207</th>\n",
       "      <td>71</td>\n",
       "      <td>retired</td>\n",
       "      <td>divorced</td>\n",
       "      <td>primary</td>\n",
       "      <td>no</td>\n",
       "      <td>1729</td>\n",
       "      <td>no</td>\n",
       "      <td>no</td>\n",
       "      <td>cellular</td>\n",
       "      <td>17</td>\n",
       "      <td>nov</td>\n",
       "      <td>456</td>\n",
       "      <td>2</td>\n",
       "      <td>-1</td>\n",
       "      <td>0</td>\n",
       "      <td>unknown</td>\n",
       "      <td>yes</td>\n",
       "    </tr>\n",
       "    <tr>\n",
       "      <th>45208</th>\n",
       "      <td>72</td>\n",
       "      <td>retired</td>\n",
       "      <td>married</td>\n",
       "      <td>secondary</td>\n",
       "      <td>no</td>\n",
       "      <td>5715</td>\n",
       "      <td>no</td>\n",
       "      <td>no</td>\n",
       "      <td>cellular</td>\n",
       "      <td>17</td>\n",
       "      <td>nov</td>\n",
       "      <td>1127</td>\n",
       "      <td>5</td>\n",
       "      <td>184</td>\n",
       "      <td>3</td>\n",
       "      <td>success</td>\n",
       "      <td>yes</td>\n",
       "    </tr>\n",
       "    <tr>\n",
       "      <th>45209</th>\n",
       "      <td>57</td>\n",
       "      <td>blue-collar</td>\n",
       "      <td>married</td>\n",
       "      <td>secondary</td>\n",
       "      <td>no</td>\n",
       "      <td>668</td>\n",
       "      <td>no</td>\n",
       "      <td>no</td>\n",
       "      <td>telephone</td>\n",
       "      <td>17</td>\n",
       "      <td>nov</td>\n",
       "      <td>508</td>\n",
       "      <td>4</td>\n",
       "      <td>-1</td>\n",
       "      <td>0</td>\n",
       "      <td>unknown</td>\n",
       "      <td>no</td>\n",
       "    </tr>\n",
       "    <tr>\n",
       "      <th>45210</th>\n",
       "      <td>37</td>\n",
       "      <td>entrepreneur</td>\n",
       "      <td>married</td>\n",
       "      <td>secondary</td>\n",
       "      <td>no</td>\n",
       "      <td>2971</td>\n",
       "      <td>no</td>\n",
       "      <td>no</td>\n",
       "      <td>cellular</td>\n",
       "      <td>17</td>\n",
       "      <td>nov</td>\n",
       "      <td>361</td>\n",
       "      <td>2</td>\n",
       "      <td>188</td>\n",
       "      <td>11</td>\n",
       "      <td>other</td>\n",
       "      <td>no</td>\n",
       "    </tr>\n",
       "  </tbody>\n",
       "</table>\n",
       "</div>"
      ],
      "text/plain": [
       "       age           job   marital  education default  balance housing loan  \\\n",
       "45206   51    technician   married   tertiary      no      825      no   no   \n",
       "45207   71       retired  divorced    primary      no     1729      no   no   \n",
       "45208   72       retired   married  secondary      no     5715      no   no   \n",
       "45209   57   blue-collar   married  secondary      no      668      no   no   \n",
       "45210   37  entrepreneur   married  secondary      no     2971      no   no   \n",
       "\n",
       "         contact  day month  duration  campaign  pdays  previous poutcome    y  \n",
       "45206   cellular   17   nov       977         3     -1         0  unknown  yes  \n",
       "45207   cellular   17   nov       456         2     -1         0  unknown  yes  \n",
       "45208   cellular   17   nov      1127         5    184         3  success  yes  \n",
       "45209  telephone   17   nov       508         4     -1         0  unknown   no  \n",
       "45210   cellular   17   nov       361         2    188        11    other   no  "
      ]
     },
     "execution_count": 5,
     "metadata": {},
     "output_type": "execute_result"
    }
   ],
   "source": [
    "data.tail(5)"
   ]
  },
  {
   "cell_type": "code",
   "execution_count": 6,
   "id": "243c285a",
   "metadata": {},
   "outputs": [],
   "source": [
    "data2=data.drop(['day','month','duration'],axis=1)"
   ]
  },
  {
   "cell_type": "code",
   "execution_count": 7,
   "id": "612ba9dd",
   "metadata": {},
   "outputs": [
    {
     "data": {
      "text/plain": [
       "(45211, 14)"
      ]
     },
     "execution_count": 7,
     "metadata": {},
     "output_type": "execute_result"
    }
   ],
   "source": [
    "#cheaked shpe of data set\n",
    "data2.shape"
   ]
  },
  {
   "cell_type": "code",
   "execution_count": 8,
   "id": "488265ed",
   "metadata": {},
   "outputs": [
    {
     "data": {
      "text/plain": [
       "age          0\n",
       "job          0\n",
       "marital      0\n",
       "education    0\n",
       "default      0\n",
       "balance      0\n",
       "housing      0\n",
       "loan         0\n",
       "contact      0\n",
       "campaign     0\n",
       "pdays        0\n",
       "previous     0\n",
       "poutcome     0\n",
       "y            0\n",
       "dtype: int64"
      ]
     },
     "execution_count": 8,
     "metadata": {},
     "output_type": "execute_result"
    }
   ],
   "source": [
    "data2.isna().sum() \n",
    "#cheaked missing value"
   ]
  },
  {
   "cell_type": "code",
   "execution_count": 9,
   "id": "5683ac2f",
   "metadata": {},
   "outputs": [
    {
     "data": {
      "text/plain": [
       "no     39922\n",
       "yes     5289\n",
       "Name: y, dtype: int64"
      ]
     },
     "execution_count": 9,
     "metadata": {},
     "output_type": "execute_result"
    }
   ],
   "source": [
    "data2['y'].value_counts()\n",
    "#cheaked count of client term deposite or not"
   ]
  },
  {
   "cell_type": "markdown",
   "id": "d19b3f37",
   "metadata": {},
   "source": [
    "Data is not proper balance anyway lets go further"
   ]
  },
  {
   "cell_type": "code",
   "execution_count": 10,
   "id": "78c05a12",
   "metadata": {},
   "outputs": [
    {
     "data": {
      "text/plain": [
       "632954"
      ]
     },
     "execution_count": 10,
     "metadata": {},
     "output_type": "execute_result"
    }
   ],
   "source": [
    "# cheaked size of data set\n",
    "data2.size"
   ]
  },
  {
   "cell_type": "code",
   "execution_count": 11,
   "id": "992dd16c",
   "metadata": {},
   "outputs": [
    {
     "name": "stdout",
     "output_type": "stream",
     "text": [
      "<class 'pandas.core.frame.DataFrame'>\n",
      "RangeIndex: 45211 entries, 0 to 45210\n",
      "Data columns (total 14 columns):\n",
      " #   Column     Non-Null Count  Dtype \n",
      "---  ------     --------------  ----- \n",
      " 0   age        45211 non-null  int64 \n",
      " 1   job        45211 non-null  object\n",
      " 2   marital    45211 non-null  object\n",
      " 3   education  45211 non-null  object\n",
      " 4   default    45211 non-null  object\n",
      " 5   balance    45211 non-null  int64 \n",
      " 6   housing    45211 non-null  object\n",
      " 7   loan       45211 non-null  object\n",
      " 8   contact    45211 non-null  object\n",
      " 9   campaign   45211 non-null  int64 \n",
      " 10  pdays      45211 non-null  int64 \n",
      " 11  previous   45211 non-null  int64 \n",
      " 12  poutcome   45211 non-null  object\n",
      " 13  y          45211 non-null  object\n",
      "dtypes: int64(5), object(9)\n",
      "memory usage: 4.8+ MB\n"
     ]
    }
   ],
   "source": [
    "# cheaked information of data set \n",
    "data2.info()"
   ]
  },
  {
   "cell_type": "markdown",
   "id": "e7f3091f",
   "metadata": {},
   "source": [
    "# VISUALIZATION AND UNIVARIATE ANALYASIS"
   ]
  },
  {
   "cell_type": "code",
   "execution_count": 12,
   "id": "36371f53",
   "metadata": {},
   "outputs": [
    {
     "data": {
      "text/plain": [
       "no     39922\n",
       "yes     5289\n",
       "Name: y, dtype: int64"
      ]
     },
     "execution_count": 12,
     "metadata": {},
     "output_type": "execute_result"
    },
    {
     "data": {
      "image/png": "[encoded data removed]",
      "text/plain": [
       "<Figure size 432x288 with 1 Axes>"
      ]
     },
     "metadata": {
      "needs_background": "light"
     },
     "output_type": "display_data"
    }
   ],
   "source": [
    "sb.countplot(x='y',data=data2)\n",
    "data2['y'].value_counts()"
   ]
  },
  {
   "cell_type": "markdown",
   "id": "47ca183d",
   "metadata": {},
   "source": [
    " From above countplot, we can understand that nearly 39922 customers have not subscribed to the term deposite but only about 5289 have."
   ]
  },
  {
   "cell_type": "markdown",
   "id": "2e40ddfa",
   "metadata": {},
   "source": [
    "The data is not balanced since number of customers of negative (no) category is much more than positive (Yes) c"
   ]
  },
  {
   "cell_type": "code",
   "execution_count": 13,
   "id": "1701ebcd",
   "metadata": {},
   "outputs": [
    {
     "data": {
      "text/plain": [
       "<AxesSubplot:xlabel='job', ylabel='count'>"
      ]
     },
     "execution_count": 13,
     "metadata": {},
     "output_type": "execute_result"
    },
    {
     "data": {
      "image/png": "[encoded data removed]",
      "text/plain": [
       "<Figure size 1080x360 with 1 Axes>"
      ]
     },
     "metadata": {
      "needs_background": "light"
     },
     "output_type": "display_data"
    }
   ],
   "source": [
    "plt.figure(figsize=(15,5))\n",
    "sb.countplot(x='job',data=data,hue='y')"
   ]
  },
  {
   "cell_type": "markdown",
   "id": "0becb5dc",
   "metadata": {},
   "source": [
    "1) From this plot, we can conclude that 'Management', 'Technician' and 'Blue-Collar' are top three job profiles who have highest number of custemores who have subscribed to term deposite as well as the customers who have not subscribed to term deposite."
   ]
  },
  {
   "cell_type": "markdown",
   "id": "d3a6b6db",
   "metadata": {},
   "source": [
    "2) 'unknown' job profile has the lowest number of customers subscribed to term deposite as well who have not not subscribed."
   ]
  },
  {
   "cell_type": "markdown",
   "id": "2f477f25",
   "metadata": {},
   "source": [
    "3) The rate of not subscribing is lowest in job profiles as 'entrepreneur', 'self-employed', 'unemployed', 'housemaid'"
   ]
  },
  {
   "cell_type": "code",
   "execution_count": 14,
   "id": "7e270aed",
   "metadata": {},
   "outputs": [
    {
     "data": {
      "text/plain": [
       "39.0"
      ]
     },
     "execution_count": 14,
     "metadata": {},
     "output_type": "execute_result"
    },
    {
     "data": {
      "image/png": "[encoded data removed]",
      "text/plain": [
       "<Figure size 432x288 with 1 Axes>"
      ]
     },
     "metadata": {
      "needs_background": "light"
     },
     "output_type": "display_data"
    }
   ],
   "source": [
    "sb.boxplot(data=data,x='y',y='age')\n",
    "data['age'].median()"
   ]
  },
  {
   "cell_type": "markdown",
   "id": "f0581781",
   "metadata": {},
   "source": [
    "From this boxplot, we conclude that the customers who have subscribed and not-subscribed has median-age around 39"
   ]
  },
  {
   "cell_type": "code",
   "execution_count": 15,
   "id": "165300ac",
   "metadata": {},
   "outputs": [
    {
     "data": {
      "text/plain": [
       "<AxesSubplot:xlabel='education', ylabel='count'>"
      ]
     },
     "execution_count": 15,
     "metadata": {},
     "output_type": "execute_result"
    },
    {
     "data": {
      "image/png": "[encoded data removed]",
      "text/plain": [
       "<Figure size 432x288 with 1 Axes>"
      ]
     },
     "metadata": {
      "needs_background": "light"
     },
     "output_type": "display_data"
    }
   ],
   "source": [
    "sb.countplot(x='education',data=data,hue='y')"
   ]
  },
  {
   "cell_type": "markdown",
   "id": "db2c1790",
   "metadata": {},
   "source": [
    "Majority of customers having 'secondary' or 'tertiary' education subscribed to term deposite."
   ]
  },
  {
   "cell_type": "code",
   "execution_count": 16,
   "id": "f1eb5e45",
   "metadata": {},
   "outputs": [
    {
     "data": {
      "text/plain": [
       "<AxesSubplot:xlabel='housing', ylabel='count'>"
      ]
     },
     "execution_count": 16,
     "metadata": {},
     "output_type": "execute_result"
    },
    {
     "data": {
      "image/png": "[encoded data removed]",
      "text/plain": [
       "<Figure size 432x288 with 1 Axes>"
      ]
     },
     "metadata": {
      "needs_background": "light"
     },
     "output_type": "display_data"
    }
   ],
   "source": [
    "sb.countplot(x='housing',data=data,hue='y')"
   ]
  },
  {
   "cell_type": "markdown",
   "id": "6fe75fb2",
   "metadata": {},
   "source": [
    "As we can see, the number of customers subscribed to term deposite who has housing is less than that that of cust"
   ]
  },
  {
   "cell_type": "code",
   "execution_count": 17,
   "id": "236cf414",
   "metadata": {},
   "outputs": [
    {
     "data": {
      "text/plain": [
       "<AxesSubplot:xlabel='loan', ylabel='count'>"
      ]
     },
     "execution_count": 17,
     "metadata": {},
     "output_type": "execute_result"
    },
    {
     "data": {
      "image/png": "[encoded data removed]",
      "text/plain": [
       "<Figure size 432x288 with 1 Axes>"
      ]
     },
     "metadata": {
      "needs_background": "light"
     },
     "output_type": "display_data"
    }
   ],
   "source": [
    "sb.countplot(x='loan',data=data,hue='y')"
   ]
  },
  {
   "cell_type": "markdown",
   "id": "6f34c3e1",
   "metadata": {},
   "source": [
    "Very few customers who are having personal loan subscribed to term deposite.\n"
   ]
  },
  {
   "cell_type": "code",
   "execution_count": 18,
   "id": "39504c37",
   "metadata": {},
   "outputs": [
    {
     "data": {
      "text/plain": [
       "<AxesSubplot:xlabel='contact', ylabel='count'>"
      ]
     },
     "execution_count": 18,
     "metadata": {},
     "output_type": "execute_result"
    },
    {
     "data": {
      "image/png": "[encoded data removed]",
      "text/plain": [
       "<Figure size 432x288 with 1 Axes>"
      ]
     },
     "metadata": {
      "needs_background": "light"
     },
     "output_type": "display_data"
    }
   ],
   "source": [
    "sb.countplot(x='contact',data=data,hue='y')"
   ]
  },
  {
   "cell_type": "markdown",
   "id": "bf0916c1",
   "metadata": {},
   "source": [
    "Cellular contcat' was the most used communication mode used to contact the customers,has subcribe more than unknown and telephone"
   ]
  },
  {
   "cell_type": "code",
   "execution_count": 19,
   "id": "a2866e1a",
   "metadata": {},
   "outputs": [
    {
     "data": {
      "text/plain": [
       "<AxesSubplot:xlabel='poutcome', ylabel='count'>"
      ]
     },
     "execution_count": 19,
     "metadata": {},
     "output_type": "execute_result"
    },
    {
     "data": {
      "image/png": "[encoded data removed]",
      "text/plain": [
       "<Figure size 432x288 with 1 Axes>"
      ]
     },
     "metadata": {
      "needs_background": "light"
     },
     "output_type": "display_data"
    }
   ],
   "source": [
    "sb.countplot(x='poutcome',data=data,hue='y')"
   ]
  },
  {
   "cell_type": "markdown",
   "id": "072dce0e",
   "metadata": {},
   "source": [
    "1) Above countplot shows the outcome of the previous marketing campaign."
   ]
  },
  {
   "cell_type": "markdown",
   "id": "c0959fe4",
   "metadata": {},
   "source": [
    "2) We can say most of the customers are new i.e. they are not contacted previously and hence their marketing campaign is 'unkown'."
   ]
  },
  {
   "cell_type": "markdown",
   "id": "0b4ddf8d",
   "metadata": {},
   "source": [
    "3) Very few people subscribed to term deposite in 'Failure' markteing campaign, where as the rate of customers who"
   ]
  },
  {
   "cell_type": "code",
   "execution_count": 20,
   "id": "0994bfa8",
   "metadata": {},
   "outputs": [
    {
     "data": {
      "text/plain": [
       "array([[<AxesSubplot:title={'center':'age'}>,\n",
       "        <AxesSubplot:title={'center':'balance'}>,\n",
       "        <AxesSubplot:title={'center':'day'}>],\n",
       "       [<AxesSubplot:title={'center':'duration'}>,\n",
       "        <AxesSubplot:title={'center':'campaign'}>,\n",
       "        <AxesSubplot:title={'center':'pdays'}>],\n",
       "       [<AxesSubplot:title={'center':'previous'}>, <AxesSubplot:>,\n",
       "        <AxesSubplot:>]], dtype=object)"
      ]
     },
     "execution_count": 20,
     "metadata": {},
     "output_type": "execute_result"
    },
    {
     "data": {
      "image/png": "[encoded data removed]",
      "text/plain": [
       "<Figure size 1296x1080 with 9 Axes>"
      ]
     },
     "metadata": {
      "needs_background": "light"
     },
     "output_type": "display_data"
    }
   ],
   "source": [
    "data.hist(figsize=(18,15))"
   ]
  },
  {
   "cell_type": "markdown",
   "id": "1984428b",
   "metadata": {},
   "source": [
    "# Changing data type "
   ]
  },
  {
   "cell_type": "code",
   "execution_count": 21,
   "id": "6bed9381",
   "metadata": {},
   "outputs": [],
   "source": [
    "data['job']=data['job'].astype('category')\n",
    "data['marital']=data['marital'].astype('category')\n",
    "data['education']=data['education'].astype('category')\n",
    "data['default']=data['default'].astype('category')\n",
    "data['housing']=data['housing'].astype('category')\n",
    "data['loan']=data['loan'].astype('category')\n",
    "data['contact']=data['contact'].astype('category')\n",
    "data['month']=data['month'].astype('category')\n",
    "data['poutcome']=data['poutcome'].astype('category')\n",
    "data['y']=data['y'].astype('category')"
   ]
  },
  {
   "cell_type": "code",
   "execution_count": 22,
   "id": "50a44956",
   "metadata": {},
   "outputs": [],
   "source": [
    "data3=data"
   ]
  },
  {
   "cell_type": "code",
   "execution_count": 23,
   "id": "15e87313",
   "metadata": {},
   "outputs": [
    {
     "name": "stdout",
     "output_type": "stream",
     "text": [
      "<class 'pandas.core.frame.DataFrame'>\n",
      "RangeIndex: 45211 entries, 0 to 45210\n",
      "Data columns (total 17 columns):\n",
      " #   Column     Non-Null Count  Dtype   \n",
      "---  ------     --------------  -----   \n",
      " 0   age        45211 non-null  int64   \n",
      " 1   job        45211 non-null  category\n",
      " 2   marital    45211 non-null  category\n",
      " 3   education  45211 non-null  category\n",
      " 4   default    45211 non-null  category\n",
      " 5   balance    45211 non-null  int64   \n",
      " 6   housing    45211 non-null  category\n",
      " 7   loan       45211 non-null  category\n",
      " 8   contact    45211 non-null  category\n",
      " 9   day        45211 non-null  int64   \n",
      " 10  month      45211 non-null  category\n",
      " 11  duration   45211 non-null  int64   \n",
      " 12  campaign   45211 non-null  int64   \n",
      " 13  pdays      45211 non-null  int64   \n",
      " 14  previous   45211 non-null  int64   \n",
      " 15  poutcome   45211 non-null  category\n",
      " 16  y          45211 non-null  category\n",
      "dtypes: category(10), int64(7)\n",
      "memory usage: 2.8 MB\n"
     ]
    }
   ],
   "source": [
    "data3.info()"
   ]
  },
  {
   "cell_type": "code",
   "execution_count": 24,
   "id": "cba9b509",
   "metadata": {},
   "outputs": [],
   "source": [
    "#Label Encoding\n",
    "data3['job'] = data3['job'].cat.codes\n",
    "data3['marital'] = data3['marital'].cat.codes\n",
    "data3['education'] = data3['education'].cat.codes\n",
    "data3['default'] = data3['default'].cat.codes\n",
    "data3['housing'] = data3['housing'].cat.codes\n",
    "data3['loan'] = data3['loan'].cat.codes\n",
    "data3['contact'] = data3['contact'].cat.codes\n",
    "data3['month'] = data3['month'].cat.codes\n",
    "data3['poutcome'] = data3['poutcome'].cat.codes\n",
    "data3['y'] = data3['y'].cat.codes"
   ]
  },
  {
   "cell_type": "code",
   "execution_count": 25,
   "id": "34d61e44",
   "metadata": {},
   "outputs": [
    {
     "data": {
      "text/html": [
       "<div>\n",
       "<style scoped>\n",
       "    .dataframe tbody tr th:only-of-type {\n",
       "        vertical-align: middle;\n",
       "    }\n",
       "\n",
       "    .dataframe tbody tr th {\n",
       "        vertical-align: top;\n",
       "    }\n",
       "\n",
       "    .dataframe thead th {\n",
       "        text-align: right;\n",
       "    }\n",
       "</style>\n",
       "<table border=\"1\" class=\"dataframe\">\n",
       "  <thead>\n",
       "    <tr style=\"text-align: right;\">\n",
       "      <th></th>\n",
       "      <th>age</th>\n",
       "      <th>job</th>\n",
       "      <th>marital</th>\n",
       "      <th>education</th>\n",
       "      <th>default</th>\n",
       "      <th>balance</th>\n",
       "      <th>housing</th>\n",
       "      <th>loan</th>\n",
       "      <th>contact</th>\n",
       "      <th>day</th>\n",
       "      <th>month</th>\n",
       "      <th>duration</th>\n",
       "      <th>campaign</th>\n",
       "      <th>pdays</th>\n",
       "      <th>previous</th>\n",
       "      <th>poutcome</th>\n",
       "      <th>y</th>\n",
       "    </tr>\n",
       "  </thead>\n",
       "  <tbody>\n",
       "    <tr>\n",
       "      <th>0</th>\n",
       "      <td>58</td>\n",
       "      <td>4</td>\n",
       "      <td>1</td>\n",
       "      <td>2</td>\n",
       "      <td>0</td>\n",
       "      <td>2143</td>\n",
       "      <td>1</td>\n",
       "      <td>0</td>\n",
       "      <td>2</td>\n",
       "      <td>5</td>\n",
       "      <td>8</td>\n",
       "      <td>261</td>\n",
       "      <td>1</td>\n",
       "      <td>-1</td>\n",
       "      <td>0</td>\n",
       "      <td>3</td>\n",
       "      <td>0</td>\n",
       "    </tr>\n",
       "    <tr>\n",
       "      <th>1</th>\n",
       "      <td>44</td>\n",
       "      <td>9</td>\n",
       "      <td>2</td>\n",
       "      <td>1</td>\n",
       "      <td>0</td>\n",
       "      <td>29</td>\n",
       "      <td>1</td>\n",
       "      <td>0</td>\n",
       "      <td>2</td>\n",
       "      <td>5</td>\n",
       "      <td>8</td>\n",
       "      <td>151</td>\n",
       "      <td>1</td>\n",
       "      <td>-1</td>\n",
       "      <td>0</td>\n",
       "      <td>3</td>\n",
       "      <td>0</td>\n",
       "    </tr>\n",
       "    <tr>\n",
       "      <th>2</th>\n",
       "      <td>33</td>\n",
       "      <td>2</td>\n",
       "      <td>1</td>\n",
       "      <td>1</td>\n",
       "      <td>0</td>\n",
       "      <td>2</td>\n",
       "      <td>1</td>\n",
       "      <td>1</td>\n",
       "      <td>2</td>\n",
       "      <td>5</td>\n",
       "      <td>8</td>\n",
       "      <td>76</td>\n",
       "      <td>1</td>\n",
       "      <td>-1</td>\n",
       "      <td>0</td>\n",
       "      <td>3</td>\n",
       "      <td>0</td>\n",
       "    </tr>\n",
       "    <tr>\n",
       "      <th>3</th>\n",
       "      <td>47</td>\n",
       "      <td>1</td>\n",
       "      <td>1</td>\n",
       "      <td>3</td>\n",
       "      <td>0</td>\n",
       "      <td>1506</td>\n",
       "      <td>1</td>\n",
       "      <td>0</td>\n",
       "      <td>2</td>\n",
       "      <td>5</td>\n",
       "      <td>8</td>\n",
       "      <td>92</td>\n",
       "      <td>1</td>\n",
       "      <td>-1</td>\n",
       "      <td>0</td>\n",
       "      <td>3</td>\n",
       "      <td>0</td>\n",
       "    </tr>\n",
       "    <tr>\n",
       "      <th>4</th>\n",
       "      <td>33</td>\n",
       "      <td>11</td>\n",
       "      <td>2</td>\n",
       "      <td>3</td>\n",
       "      <td>0</td>\n",
       "      <td>1</td>\n",
       "      <td>0</td>\n",
       "      <td>0</td>\n",
       "      <td>2</td>\n",
       "      <td>5</td>\n",
       "      <td>8</td>\n",
       "      <td>198</td>\n",
       "      <td>1</td>\n",
       "      <td>-1</td>\n",
       "      <td>0</td>\n",
       "      <td>3</td>\n",
       "      <td>0</td>\n",
       "    </tr>\n",
       "    <tr>\n",
       "      <th>...</th>\n",
       "      <td>...</td>\n",
       "      <td>...</td>\n",
       "      <td>...</td>\n",
       "      <td>...</td>\n",
       "      <td>...</td>\n",
       "      <td>...</td>\n",
       "      <td>...</td>\n",
       "      <td>...</td>\n",
       "      <td>...</td>\n",
       "      <td>...</td>\n",
       "      <td>...</td>\n",
       "      <td>...</td>\n",
       "      <td>...</td>\n",
       "      <td>...</td>\n",
       "      <td>...</td>\n",
       "      <td>...</td>\n",
       "      <td>...</td>\n",
       "    </tr>\n",
       "    <tr>\n",
       "      <th>45206</th>\n",
       "      <td>51</td>\n",
       "      <td>9</td>\n",
       "      <td>1</td>\n",
       "      <td>2</td>\n",
       "      <td>0</td>\n",
       "      <td>825</td>\n",
       "      <td>0</td>\n",
       "      <td>0</td>\n",
       "      <td>0</td>\n",
       "      <td>17</td>\n",
       "      <td>9</td>\n",
       "      <td>977</td>\n",
       "      <td>3</td>\n",
       "      <td>-1</td>\n",
       "      <td>0</td>\n",
       "      <td>3</td>\n",
       "      <td>1</td>\n",
       "    </tr>\n",
       "    <tr>\n",
       "      <th>45207</th>\n",
       "      <td>71</td>\n",
       "      <td>5</td>\n",
       "      <td>0</td>\n",
       "      <td>0</td>\n",
       "      <td>0</td>\n",
       "      <td>1729</td>\n",
       "      <td>0</td>\n",
       "      <td>0</td>\n",
       "      <td>0</td>\n",
       "      <td>17</td>\n",
       "      <td>9</td>\n",
       "      <td>456</td>\n",
       "      <td>2</td>\n",
       "      <td>-1</td>\n",
       "      <td>0</td>\n",
       "      <td>3</td>\n",
       "      <td>1</td>\n",
       "    </tr>\n",
       "    <tr>\n",
       "      <th>45208</th>\n",
       "      <td>72</td>\n",
       "      <td>5</td>\n",
       "      <td>1</td>\n",
       "      <td>1</td>\n",
       "      <td>0</td>\n",
       "      <td>5715</td>\n",
       "      <td>0</td>\n",
       "      <td>0</td>\n",
       "      <td>0</td>\n",
       "      <td>17</td>\n",
       "      <td>9</td>\n",
       "      <td>1127</td>\n",
       "      <td>5</td>\n",
       "      <td>184</td>\n",
       "      <td>3</td>\n",
       "      <td>2</td>\n",
       "      <td>1</td>\n",
       "    </tr>\n",
       "    <tr>\n",
       "      <th>45209</th>\n",
       "      <td>57</td>\n",
       "      <td>1</td>\n",
       "      <td>1</td>\n",
       "      <td>1</td>\n",
       "      <td>0</td>\n",
       "      <td>668</td>\n",
       "      <td>0</td>\n",
       "      <td>0</td>\n",
       "      <td>1</td>\n",
       "      <td>17</td>\n",
       "      <td>9</td>\n",
       "      <td>508</td>\n",
       "      <td>4</td>\n",
       "      <td>-1</td>\n",
       "      <td>0</td>\n",
       "      <td>3</td>\n",
       "      <td>0</td>\n",
       "    </tr>\n",
       "    <tr>\n",
       "      <th>45210</th>\n",
       "      <td>37</td>\n",
       "      <td>2</td>\n",
       "      <td>1</td>\n",
       "      <td>1</td>\n",
       "      <td>0</td>\n",
       "      <td>2971</td>\n",
       "      <td>0</td>\n",
       "      <td>0</td>\n",
       "      <td>0</td>\n",
       "      <td>17</td>\n",
       "      <td>9</td>\n",
       "      <td>361</td>\n",
       "      <td>2</td>\n",
       "      <td>188</td>\n",
       "      <td>11</td>\n",
       "      <td>1</td>\n",
       "      <td>0</td>\n",
       "    </tr>\n",
       "  </tbody>\n",
       "</table>\n",
       "<p>45211 rows × 17 columns</p>\n",
       "</div>"
      ],
      "text/plain": [
       "       age  job  marital  education  default  balance  housing  loan  contact  \\\n",
       "0       58    4        1          2        0     2143        1     0        2   \n",
       "1       44    9        2          1        0       29        1     0        2   \n",
       "2       33    2        1          1        0        2        1     1        2   \n",
       "3       47    1        1          3        0     1506        1     0        2   \n",
       "4       33   11        2          3        0        1        0     0        2   \n",
       "...    ...  ...      ...        ...      ...      ...      ...   ...      ...   \n",
       "45206   51    9        1          2        0      825        0     0        0   \n",
       "45207   71    5        0          0        0     1729        0     0        0   \n",
       "45208   72    5        1          1        0     5715        0     0        0   \n",
       "45209   57    1        1          1        0      668        0     0        1   \n",
       "45210   37    2        1          1        0     2971        0     0        0   \n",
       "\n",
       "       day  month  duration  campaign  pdays  previous  poutcome  y  \n",
       "0        5      8       261         1     -1         0         3  0  \n",
       "1        5      8       151         1     -1         0         3  0  \n",
       "2        5      8        76         1     -1         0         3  0  \n",
       "3        5      8        92         1     -1         0         3  0  \n",
       "4        5      8       198         1     -1         0         3  0  \n",
       "...    ...    ...       ...       ...    ...       ...       ... ..  \n",
       "45206   17      9       977         3     -1         0         3  1  \n",
       "45207   17      9       456         2     -1         0         3  1  \n",
       "45208   17      9      1127         5    184         3         2  1  \n",
       "45209   17      9       508         4     -1         0         3  0  \n",
       "45210   17      9       361         2    188        11         1  0  \n",
       "\n",
       "[45211 rows x 17 columns]"
      ]
     },
     "execution_count": 25,
     "metadata": {},
     "output_type": "execute_result"
    }
   ],
   "source": [
    "data3"
   ]
  },
  {
   "cell_type": "code",
   "execution_count": 26,
   "id": "dd51dc7b",
   "metadata": {},
   "outputs": [],
   "source": [
    "# Dividing our data into input and output variables\n",
    "x = data3.iloc[:,:-1]  #all independent features\n",
    "y = data3.iloc[:,16]   #Target variable"
   ]
  },
  {
   "cell_type": "code",
   "execution_count": 27,
   "id": "ede012f8",
   "metadata": {},
   "outputs": [
    {
     "data": {
      "text/html": [
       "<div>\n",
       "<style scoped>\n",
       "    .dataframe tbody tr th:only-of-type {\n",
       "        vertical-align: middle;\n",
       "    }\n",
       "\n",
       "    .dataframe tbody tr th {\n",
       "        vertical-align: top;\n",
       "    }\n",
       "\n",
       "    .dataframe thead th {\n",
       "        text-align: right;\n",
       "    }\n",
       "</style>\n",
       "<table border=\"1\" class=\"dataframe\">\n",
       "  <thead>\n",
       "    <tr style=\"text-align: right;\">\n",
       "      <th></th>\n",
       "      <th>age</th>\n",
       "      <th>job</th>\n",
       "      <th>marital</th>\n",
       "      <th>education</th>\n",
       "      <th>default</th>\n",
       "      <th>balance</th>\n",
       "      <th>housing</th>\n",
       "      <th>loan</th>\n",
       "      <th>contact</th>\n",
       "      <th>day</th>\n",
       "      <th>month</th>\n",
       "      <th>duration</th>\n",
       "      <th>campaign</th>\n",
       "      <th>pdays</th>\n",
       "      <th>previous</th>\n",
       "      <th>poutcome</th>\n",
       "    </tr>\n",
       "  </thead>\n",
       "  <tbody>\n",
       "    <tr>\n",
       "      <th>0</th>\n",
       "      <td>58</td>\n",
       "      <td>4</td>\n",
       "      <td>1</td>\n",
       "      <td>2</td>\n",
       "      <td>0</td>\n",
       "      <td>2143</td>\n",
       "      <td>1</td>\n",
       "      <td>0</td>\n",
       "      <td>2</td>\n",
       "      <td>5</td>\n",
       "      <td>8</td>\n",
       "      <td>261</td>\n",
       "      <td>1</td>\n",
       "      <td>-1</td>\n",
       "      <td>0</td>\n",
       "      <td>3</td>\n",
       "    </tr>\n",
       "    <tr>\n",
       "      <th>1</th>\n",
       "      <td>44</td>\n",
       "      <td>9</td>\n",
       "      <td>2</td>\n",
       "      <td>1</td>\n",
       "      <td>0</td>\n",
       "      <td>29</td>\n",
       "      <td>1</td>\n",
       "      <td>0</td>\n",
       "      <td>2</td>\n",
       "      <td>5</td>\n",
       "      <td>8</td>\n",
       "      <td>151</td>\n",
       "      <td>1</td>\n",
       "      <td>-1</td>\n",
       "      <td>0</td>\n",
       "      <td>3</td>\n",
       "    </tr>\n",
       "    <tr>\n",
       "      <th>2</th>\n",
       "      <td>33</td>\n",
       "      <td>2</td>\n",
       "      <td>1</td>\n",
       "      <td>1</td>\n",
       "      <td>0</td>\n",
       "      <td>2</td>\n",
       "      <td>1</td>\n",
       "      <td>1</td>\n",
       "      <td>2</td>\n",
       "      <td>5</td>\n",
       "      <td>8</td>\n",
       "      <td>76</td>\n",
       "      <td>1</td>\n",
       "      <td>-1</td>\n",
       "      <td>0</td>\n",
       "      <td>3</td>\n",
       "    </tr>\n",
       "    <tr>\n",
       "      <th>3</th>\n",
       "      <td>47</td>\n",
       "      <td>1</td>\n",
       "      <td>1</td>\n",
       "      <td>3</td>\n",
       "      <td>0</td>\n",
       "      <td>1506</td>\n",
       "      <td>1</td>\n",
       "      <td>0</td>\n",
       "      <td>2</td>\n",
       "      <td>5</td>\n",
       "      <td>8</td>\n",
       "      <td>92</td>\n",
       "      <td>1</td>\n",
       "      <td>-1</td>\n",
       "      <td>0</td>\n",
       "      <td>3</td>\n",
       "    </tr>\n",
       "    <tr>\n",
       "      <th>4</th>\n",
       "      <td>33</td>\n",
       "      <td>11</td>\n",
       "      <td>2</td>\n",
       "      <td>3</td>\n",
       "      <td>0</td>\n",
       "      <td>1</td>\n",
       "      <td>0</td>\n",
       "      <td>0</td>\n",
       "      <td>2</td>\n",
       "      <td>5</td>\n",
       "      <td>8</td>\n",
       "      <td>198</td>\n",
       "      <td>1</td>\n",
       "      <td>-1</td>\n",
       "      <td>0</td>\n",
       "      <td>3</td>\n",
       "    </tr>\n",
       "    <tr>\n",
       "      <th>...</th>\n",
       "      <td>...</td>\n",
       "      <td>...</td>\n",
       "      <td>...</td>\n",
       "      <td>...</td>\n",
       "      <td>...</td>\n",
       "      <td>...</td>\n",
       "      <td>...</td>\n",
       "      <td>...</td>\n",
       "      <td>...</td>\n",
       "      <td>...</td>\n",
       "      <td>...</td>\n",
       "      <td>...</td>\n",
       "      <td>...</td>\n",
       "      <td>...</td>\n",
       "      <td>...</td>\n",
       "      <td>...</td>\n",
       "    </tr>\n",
       "    <tr>\n",
       "      <th>45206</th>\n",
       "      <td>51</td>\n",
       "      <td>9</td>\n",
       "      <td>1</td>\n",
       "      <td>2</td>\n",
       "      <td>0</td>\n",
       "      <td>825</td>\n",
       "      <td>0</td>\n",
       "      <td>0</td>\n",
       "      <td>0</td>\n",
       "      <td>17</td>\n",
       "      <td>9</td>\n",
       "      <td>977</td>\n",
       "      <td>3</td>\n",
       "      <td>-1</td>\n",
       "      <td>0</td>\n",
       "      <td>3</td>\n",
       "    </tr>\n",
       "    <tr>\n",
       "      <th>45207</th>\n",
       "      <td>71</td>\n",
       "      <td>5</td>\n",
       "      <td>0</td>\n",
       "      <td>0</td>\n",
       "      <td>0</td>\n",
       "      <td>1729</td>\n",
       "      <td>0</td>\n",
       "      <td>0</td>\n",
       "      <td>0</td>\n",
       "      <td>17</td>\n",
       "      <td>9</td>\n",
       "      <td>456</td>\n",
       "      <td>2</td>\n",
       "      <td>-1</td>\n",
       "      <td>0</td>\n",
       "      <td>3</td>\n",
       "    </tr>\n",
       "    <tr>\n",
       "      <th>45208</th>\n",
       "      <td>72</td>\n",
       "      <td>5</td>\n",
       "      <td>1</td>\n",
       "      <td>1</td>\n",
       "      <td>0</td>\n",
       "      <td>5715</td>\n",
       "      <td>0</td>\n",
       "      <td>0</td>\n",
       "      <td>0</td>\n",
       "      <td>17</td>\n",
       "      <td>9</td>\n",
       "      <td>1127</td>\n",
       "      <td>5</td>\n",
       "      <td>184</td>\n",
       "      <td>3</td>\n",
       "      <td>2</td>\n",
       "    </tr>\n",
       "    <tr>\n",
       "      <th>45209</th>\n",
       "      <td>57</td>\n",
       "      <td>1</td>\n",
       "      <td>1</td>\n",
       "      <td>1</td>\n",
       "      <td>0</td>\n",
       "      <td>668</td>\n",
       "      <td>0</td>\n",
       "      <td>0</td>\n",
       "      <td>1</td>\n",
       "      <td>17</td>\n",
       "      <td>9</td>\n",
       "      <td>508</td>\n",
       "      <td>4</td>\n",
       "      <td>-1</td>\n",
       "      <td>0</td>\n",
       "      <td>3</td>\n",
       "    </tr>\n",
       "    <tr>\n",
       "      <th>45210</th>\n",
       "      <td>37</td>\n",
       "      <td>2</td>\n",
       "      <td>1</td>\n",
       "      <td>1</td>\n",
       "      <td>0</td>\n",
       "      <td>2971</td>\n",
       "      <td>0</td>\n",
       "      <td>0</td>\n",
       "      <td>0</td>\n",
       "      <td>17</td>\n",
       "      <td>9</td>\n",
       "      <td>361</td>\n",
       "      <td>2</td>\n",
       "      <td>188</td>\n",
       "      <td>11</td>\n",
       "      <td>1</td>\n",
       "    </tr>\n",
       "  </tbody>\n",
       "</table>\n",
       "<p>45211 rows × 16 columns</p>\n",
       "</div>"
      ],
      "text/plain": [
       "       age  job  marital  education  default  balance  housing  loan  contact  \\\n",
       "0       58    4        1          2        0     2143        1     0        2   \n",
       "1       44    9        2          1        0       29        1     0        2   \n",
       "2       33    2        1          1        0        2        1     1        2   \n",
       "3       47    1        1          3        0     1506        1     0        2   \n",
       "4       33   11        2          3        0        1        0     0        2   \n",
       "...    ...  ...      ...        ...      ...      ...      ...   ...      ...   \n",
       "45206   51    9        1          2        0      825        0     0        0   \n",
       "45207   71    5        0          0        0     1729        0     0        0   \n",
       "45208   72    5        1          1        0     5715        0     0        0   \n",
       "45209   57    1        1          1        0      668        0     0        1   \n",
       "45210   37    2        1          1        0     2971        0     0        0   \n",
       "\n",
       "       day  month  duration  campaign  pdays  previous  poutcome  \n",
       "0        5      8       261         1     -1         0         3  \n",
       "1        5      8       151         1     -1         0         3  \n",
       "2        5      8        76         1     -1         0         3  \n",
       "3        5      8        92         1     -1         0         3  \n",
       "4        5      8       198         1     -1         0         3  \n",
       "...    ...    ...       ...       ...    ...       ...       ...  \n",
       "45206   17      9       977         3     -1         0         3  \n",
       "45207   17      9       456         2     -1         0         3  \n",
       "45208   17      9      1127         5    184         3         2  \n",
       "45209   17      9       508         4     -1         0         3  \n",
       "45210   17      9       361         2    188        11         1  \n",
       "\n",
       "[45211 rows x 16 columns]"
      ]
     },
     "execution_count": 27,
     "metadata": {},
     "output_type": "execute_result"
    }
   ],
   "source": [
    "x"
   ]
  },
  {
   "cell_type": "code",
   "execution_count": 28,
   "id": "da35ad8a",
   "metadata": {},
   "outputs": [],
   "source": [
    "x1 = x.clip(lower=0) # Replacing all negative values of x with 0"
   ]
  },
  {
   "cell_type": "markdown",
   "id": "e18301eb",
   "metadata": {},
   "source": [
    "# freture selection\n",
    "corelation matix and heatmap"
   ]
  },
  {
   "cell_type": "code",
   "execution_count": 29,
   "id": "bfa36776",
   "metadata": {},
   "outputs": [
    {
     "data": {
      "text/html": [
       "<div>\n",
       "<style scoped>\n",
       "    .dataframe tbody tr th:only-of-type {\n",
       "        vertical-align: middle;\n",
       "    }\n",
       "\n",
       "    .dataframe tbody tr th {\n",
       "        vertical-align: top;\n",
       "    }\n",
       "\n",
       "    .dataframe thead th {\n",
       "        text-align: right;\n",
       "    }\n",
       "</style>\n",
       "<table border=\"1\" class=\"dataframe\">\n",
       "  <thead>\n",
       "    <tr style=\"text-align: right;\">\n",
       "      <th></th>\n",
       "      <th>age</th>\n",
       "      <th>job</th>\n",
       "      <th>marital</th>\n",
       "      <th>education</th>\n",
       "      <th>default</th>\n",
       "      <th>balance</th>\n",
       "      <th>housing</th>\n",
       "      <th>loan</th>\n",
       "      <th>contact</th>\n",
       "      <th>day</th>\n",
       "      <th>month</th>\n",
       "      <th>duration</th>\n",
       "      <th>campaign</th>\n",
       "      <th>pdays</th>\n",
       "      <th>previous</th>\n",
       "      <th>poutcome</th>\n",
       "      <th>y</th>\n",
       "    </tr>\n",
       "  </thead>\n",
       "  <tbody>\n",
       "    <tr>\n",
       "      <th>age</th>\n",
       "      <td>1.000000</td>\n",
       "      <td>-0.021868</td>\n",
       "      <td>-0.403240</td>\n",
       "      <td>-0.106807</td>\n",
       "      <td>-0.017879</td>\n",
       "      <td>0.097783</td>\n",
       "      <td>-0.185513</td>\n",
       "      <td>-0.015655</td>\n",
       "      <td>0.026221</td>\n",
       "      <td>-0.009120</td>\n",
       "      <td>-0.042357</td>\n",
       "      <td>-0.004648</td>\n",
       "      <td>0.004760</td>\n",
       "      <td>-0.023758</td>\n",
       "      <td>0.001288</td>\n",
       "      <td>0.007367</td>\n",
       "      <td>0.025155</td>\n",
       "    </tr>\n",
       "    <tr>\n",
       "      <th>job</th>\n",
       "      <td>-0.021868</td>\n",
       "      <td>1.000000</td>\n",
       "      <td>0.062045</td>\n",
       "      <td>0.166707</td>\n",
       "      <td>-0.006853</td>\n",
       "      <td>0.018232</td>\n",
       "      <td>-0.125363</td>\n",
       "      <td>-0.033004</td>\n",
       "      <td>-0.082063</td>\n",
       "      <td>0.022856</td>\n",
       "      <td>-0.092870</td>\n",
       "      <td>0.004744</td>\n",
       "      <td>0.006839</td>\n",
       "      <td>-0.024455</td>\n",
       "      <td>-0.000911</td>\n",
       "      <td>0.011010</td>\n",
       "      <td>0.040438</td>\n",
       "    </tr>\n",
       "    <tr>\n",
       "      <th>marital</th>\n",
       "      <td>-0.403240</td>\n",
       "      <td>0.062045</td>\n",
       "      <td>1.000000</td>\n",
       "      <td>0.108576</td>\n",
       "      <td>-0.007023</td>\n",
       "      <td>0.002122</td>\n",
       "      <td>-0.016096</td>\n",
       "      <td>-0.046893</td>\n",
       "      <td>-0.039201</td>\n",
       "      <td>-0.005261</td>\n",
       "      <td>-0.006991</td>\n",
       "      <td>0.011852</td>\n",
       "      <td>-0.008994</td>\n",
       "      <td>0.019172</td>\n",
       "      <td>0.014973</td>\n",
       "      <td>-0.016850</td>\n",
       "      <td>0.045588</td>\n",
       "    </tr>\n",
       "    <tr>\n",
       "      <th>education</th>\n",
       "      <td>-0.106807</td>\n",
       "      <td>0.166707</td>\n",
       "      <td>0.108576</td>\n",
       "      <td>1.000000</td>\n",
       "      <td>-0.010718</td>\n",
       "      <td>0.064514</td>\n",
       "      <td>-0.090790</td>\n",
       "      <td>-0.048574</td>\n",
       "      <td>-0.110928</td>\n",
       "      <td>0.022671</td>\n",
       "      <td>-0.057304</td>\n",
       "      <td>0.001935</td>\n",
       "      <td>0.006255</td>\n",
       "      <td>0.000052</td>\n",
       "      <td>0.017570</td>\n",
       "      <td>-0.019361</td>\n",
       "      <td>0.066241</td>\n",
       "    </tr>\n",
       "    <tr>\n",
       "      <th>default</th>\n",
       "      <td>-0.017879</td>\n",
       "      <td>-0.006853</td>\n",
       "      <td>-0.007023</td>\n",
       "      <td>-0.010718</td>\n",
       "      <td>1.000000</td>\n",
       "      <td>-0.066745</td>\n",
       "      <td>-0.006025</td>\n",
       "      <td>0.077234</td>\n",
       "      <td>0.015404</td>\n",
       "      <td>0.009424</td>\n",
       "      <td>0.011486</td>\n",
       "      <td>-0.010021</td>\n",
       "      <td>0.016822</td>\n",
       "      <td>-0.029979</td>\n",
       "      <td>-0.018329</td>\n",
       "      <td>0.034898</td>\n",
       "      <td>-0.022419</td>\n",
       "    </tr>\n",
       "    <tr>\n",
       "      <th>balance</th>\n",
       "      <td>0.097783</td>\n",
       "      <td>0.018232</td>\n",
       "      <td>0.002122</td>\n",
       "      <td>0.064514</td>\n",
       "      <td>-0.066745</td>\n",
       "      <td>1.000000</td>\n",
       "      <td>-0.068768</td>\n",
       "      <td>-0.084350</td>\n",
       "      <td>-0.027273</td>\n",
       "      <td>0.004503</td>\n",
       "      <td>0.019777</td>\n",
       "      <td>0.021560</td>\n",
       "      <td>-0.014578</td>\n",
       "      <td>0.003435</td>\n",
       "      <td>0.016674</td>\n",
       "      <td>-0.020967</td>\n",
       "      <td>0.052838</td>\n",
       "    </tr>\n",
       "    <tr>\n",
       "      <th>housing</th>\n",
       "      <td>-0.185513</td>\n",
       "      <td>-0.125363</td>\n",
       "      <td>-0.016096</td>\n",
       "      <td>-0.090790</td>\n",
       "      <td>-0.006025</td>\n",
       "      <td>-0.068768</td>\n",
       "      <td>1.000000</td>\n",
       "      <td>0.041323</td>\n",
       "      <td>0.188123</td>\n",
       "      <td>-0.027982</td>\n",
       "      <td>0.271481</td>\n",
       "      <td>0.005075</td>\n",
       "      <td>-0.023599</td>\n",
       "      <td>0.124178</td>\n",
       "      <td>0.037076</td>\n",
       "      <td>-0.099971</td>\n",
       "      <td>-0.139173</td>\n",
       "    </tr>\n",
       "    <tr>\n",
       "      <th>loan</th>\n",
       "      <td>-0.015655</td>\n",
       "      <td>-0.033004</td>\n",
       "      <td>-0.046893</td>\n",
       "      <td>-0.048574</td>\n",
       "      <td>0.077234</td>\n",
       "      <td>-0.084350</td>\n",
       "      <td>0.041323</td>\n",
       "      <td>1.000000</td>\n",
       "      <td>-0.010873</td>\n",
       "      <td>0.011370</td>\n",
       "      <td>0.022145</td>\n",
       "      <td>-0.012412</td>\n",
       "      <td>0.009980</td>\n",
       "      <td>-0.022754</td>\n",
       "      <td>-0.011043</td>\n",
       "      <td>0.015458</td>\n",
       "      <td>-0.068185</td>\n",
       "    </tr>\n",
       "    <tr>\n",
       "      <th>contact</th>\n",
       "      <td>0.026221</td>\n",
       "      <td>-0.082063</td>\n",
       "      <td>-0.039201</td>\n",
       "      <td>-0.110928</td>\n",
       "      <td>0.015404</td>\n",
       "      <td>-0.027273</td>\n",
       "      <td>0.188123</td>\n",
       "      <td>-0.010873</td>\n",
       "      <td>1.000000</td>\n",
       "      <td>-0.027936</td>\n",
       "      <td>0.361145</td>\n",
       "      <td>-0.020839</td>\n",
       "      <td>0.019614</td>\n",
       "      <td>-0.244816</td>\n",
       "      <td>-0.147811</td>\n",
       "      <td>0.272214</td>\n",
       "      <td>-0.148395</td>\n",
       "    </tr>\n",
       "    <tr>\n",
       "      <th>day</th>\n",
       "      <td>-0.009120</td>\n",
       "      <td>0.022856</td>\n",
       "      <td>-0.005261</td>\n",
       "      <td>0.022671</td>\n",
       "      <td>0.009424</td>\n",
       "      <td>0.004503</td>\n",
       "      <td>-0.027982</td>\n",
       "      <td>0.011370</td>\n",
       "      <td>-0.027936</td>\n",
       "      <td>1.000000</td>\n",
       "      <td>-0.006028</td>\n",
       "      <td>-0.030206</td>\n",
       "      <td>0.162490</td>\n",
       "      <td>-0.093044</td>\n",
       "      <td>-0.051710</td>\n",
       "      <td>0.083460</td>\n",
       "      <td>-0.028348</td>\n",
       "    </tr>\n",
       "    <tr>\n",
       "      <th>month</th>\n",
       "      <td>-0.042357</td>\n",
       "      <td>-0.092870</td>\n",
       "      <td>-0.006991</td>\n",
       "      <td>-0.057304</td>\n",
       "      <td>0.011486</td>\n",
       "      <td>0.019777</td>\n",
       "      <td>0.271481</td>\n",
       "      <td>0.022145</td>\n",
       "      <td>0.361145</td>\n",
       "      <td>-0.006028</td>\n",
       "      <td>1.000000</td>\n",
       "      <td>0.006314</td>\n",
       "      <td>-0.110031</td>\n",
       "      <td>0.033065</td>\n",
       "      <td>0.022727</td>\n",
       "      <td>-0.033038</td>\n",
       "      <td>-0.024471</td>\n",
       "    </tr>\n",
       "    <tr>\n",
       "      <th>duration</th>\n",
       "      <td>-0.004648</td>\n",
       "      <td>0.004744</td>\n",
       "      <td>0.011852</td>\n",
       "      <td>0.001935</td>\n",
       "      <td>-0.010021</td>\n",
       "      <td>0.021560</td>\n",
       "      <td>0.005075</td>\n",
       "      <td>-0.012412</td>\n",
       "      <td>-0.020839</td>\n",
       "      <td>-0.030206</td>\n",
       "      <td>0.006314</td>\n",
       "      <td>1.000000</td>\n",
       "      <td>-0.084570</td>\n",
       "      <td>-0.001565</td>\n",
       "      <td>0.001203</td>\n",
       "      <td>0.010925</td>\n",
       "      <td>0.394521</td>\n",
       "    </tr>\n",
       "    <tr>\n",
       "      <th>campaign</th>\n",
       "      <td>0.004760</td>\n",
       "      <td>0.006839</td>\n",
       "      <td>-0.008994</td>\n",
       "      <td>0.006255</td>\n",
       "      <td>0.016822</td>\n",
       "      <td>-0.014578</td>\n",
       "      <td>-0.023599</td>\n",
       "      <td>0.009980</td>\n",
       "      <td>0.019614</td>\n",
       "      <td>0.162490</td>\n",
       "      <td>-0.110031</td>\n",
       "      <td>-0.084570</td>\n",
       "      <td>1.000000</td>\n",
       "      <td>-0.088628</td>\n",
       "      <td>-0.032855</td>\n",
       "      <td>0.101588</td>\n",
       "      <td>-0.073172</td>\n",
       "    </tr>\n",
       "    <tr>\n",
       "      <th>pdays</th>\n",
       "      <td>-0.023758</td>\n",
       "      <td>-0.024455</td>\n",
       "      <td>0.019172</td>\n",
       "      <td>0.000052</td>\n",
       "      <td>-0.029979</td>\n",
       "      <td>0.003435</td>\n",
       "      <td>0.124178</td>\n",
       "      <td>-0.022754</td>\n",
       "      <td>-0.244816</td>\n",
       "      <td>-0.093044</td>\n",
       "      <td>0.033065</td>\n",
       "      <td>-0.001565</td>\n",
       "      <td>-0.088628</td>\n",
       "      <td>1.000000</td>\n",
       "      <td>0.454820</td>\n",
       "      <td>-0.858362</td>\n",
       "      <td>0.103621</td>\n",
       "    </tr>\n",
       "    <tr>\n",
       "      <th>previous</th>\n",
       "      <td>0.001288</td>\n",
       "      <td>-0.000911</td>\n",
       "      <td>0.014973</td>\n",
       "      <td>0.017570</td>\n",
       "      <td>-0.018329</td>\n",
       "      <td>0.016674</td>\n",
       "      <td>0.037076</td>\n",
       "      <td>-0.011043</td>\n",
       "      <td>-0.147811</td>\n",
       "      <td>-0.051710</td>\n",
       "      <td>0.022727</td>\n",
       "      <td>0.001203</td>\n",
       "      <td>-0.032855</td>\n",
       "      <td>0.454820</td>\n",
       "      <td>1.000000</td>\n",
       "      <td>-0.489752</td>\n",
       "      <td>0.093236</td>\n",
       "    </tr>\n",
       "    <tr>\n",
       "      <th>poutcome</th>\n",
       "      <td>0.007367</td>\n",
       "      <td>0.011010</td>\n",
       "      <td>-0.016850</td>\n",
       "      <td>-0.019361</td>\n",
       "      <td>0.034898</td>\n",
       "      <td>-0.020967</td>\n",
       "      <td>-0.099971</td>\n",
       "      <td>0.015458</td>\n",
       "      <td>0.272214</td>\n",
       "      <td>0.083460</td>\n",
       "      <td>-0.033038</td>\n",
       "      <td>0.010925</td>\n",
       "      <td>0.101588</td>\n",
       "      <td>-0.858362</td>\n",
       "      <td>-0.489752</td>\n",
       "      <td>1.000000</td>\n",
       "      <td>-0.077840</td>\n",
       "    </tr>\n",
       "    <tr>\n",
       "      <th>y</th>\n",
       "      <td>0.025155</td>\n",
       "      <td>0.040438</td>\n",
       "      <td>0.045588</td>\n",
       "      <td>0.066241</td>\n",
       "      <td>-0.022419</td>\n",
       "      <td>0.052838</td>\n",
       "      <td>-0.139173</td>\n",
       "      <td>-0.068185</td>\n",
       "      <td>-0.148395</td>\n",
       "      <td>-0.028348</td>\n",
       "      <td>-0.024471</td>\n",
       "      <td>0.394521</td>\n",
       "      <td>-0.073172</td>\n",
       "      <td>0.103621</td>\n",
       "      <td>0.093236</td>\n",
       "      <td>-0.077840</td>\n",
       "      <td>1.000000</td>\n",
       "    </tr>\n",
       "  </tbody>\n",
       "</table>\n",
       "</div>"
      ],
      "text/plain": [
       "                age       job   marital  education   default   balance  \\\n",
       "age        1.000000 -0.021868 -0.403240  -0.106807 -0.017879  0.097783   \n",
       "job       -0.021868  1.000000  0.062045   0.166707 -0.006853  0.018232   \n",
       "marital   -0.403240  0.062045  1.000000   0.108576 -0.007023  0.002122   \n",
       "education -0.106807  0.166707  0.108576   1.000000 -0.010718  0.064514   \n",
       "default   -0.017879 -0.006853 -0.007023  -0.010718  1.000000 -0.066745   \n",
       "balance    0.097783  0.018232  0.002122   0.064514 -0.066745  1.000000   \n",
       "housing   -0.185513 -0.125363 -0.016096  -0.090790 -0.006025 -0.068768   \n",
       "loan      -0.015655 -0.033004 -0.046893  -0.048574  0.077234 -0.084350   \n",
       "contact    0.026221 -0.082063 -0.039201  -0.110928  0.015404 -0.027273   \n",
       "day       -0.009120  0.022856 -0.005261   0.022671  0.009424  0.004503   \n",
       "month     -0.042357 -0.092870 -0.006991  -0.057304  0.011486  0.019777   \n",
       "duration  -0.004648  0.004744  0.011852   0.001935 -0.010021  0.021560   \n",
       "campaign   0.004760  0.006839 -0.008994   0.006255  0.016822 -0.014578   \n",
       "pdays     -0.023758 -0.024455  0.019172   0.000052 -0.029979  0.003435   \n",
       "previous   0.001288 -0.000911  0.014973   0.017570 -0.018329  0.016674   \n",
       "poutcome   0.007367  0.011010 -0.016850  -0.019361  0.034898 -0.020967   \n",
       "y          0.025155  0.040438  0.045588   0.066241 -0.022419  0.052838   \n",
       "\n",
       "            housing      loan   contact       day     month  duration  \\\n",
       "age       -0.185513 -0.015655  0.026221 -0.009120 -0.042357 -0.004648   \n",
       "job       -0.125363 -0.033004 -0.082063  0.022856 -0.092870  0.004744   \n",
       "marital   -0.016096 -0.046893 -0.039201 -0.005261 -0.006991  0.011852   \n",
       "education -0.090790 -0.048574 -0.110928  0.022671 -0.057304  0.001935   \n",
       "default   -0.006025  0.077234  0.015404  0.009424  0.011486 -0.010021   \n",
       "balance   -0.068768 -0.084350 -0.027273  0.004503  0.019777  0.021560   \n",
       "housing    1.000000  0.041323  0.188123 -0.027982  0.271481  0.005075   \n",
       "loan       0.041323  1.000000 -0.010873  0.011370  0.022145 -0.012412   \n",
       "contact    0.188123 -0.010873  1.000000 -0.027936  0.361145 -0.020839   \n",
       "day       -0.027982  0.011370 -0.027936  1.000000 -0.006028 -0.030206   \n",
       "month      0.271481  0.022145  0.361145 -0.006028  1.000000  0.006314   \n",
       "duration   0.005075 -0.012412 -0.020839 -0.030206  0.006314  1.000000   \n",
       "campaign  -0.023599  0.009980  0.019614  0.162490 -0.110031 -0.084570   \n",
       "pdays      0.124178 -0.022754 -0.244816 -0.093044  0.033065 -0.001565   \n",
       "previous   0.037076 -0.011043 -0.147811 -0.051710  0.022727  0.001203   \n",
       "poutcome  -0.099971  0.015458  0.272214  0.083460 -0.033038  0.010925   \n",
       "y         -0.139173 -0.068185 -0.148395 -0.028348 -0.024471  0.394521   \n",
       "\n",
       "           campaign     pdays  previous  poutcome         y  \n",
       "age        0.004760 -0.023758  0.001288  0.007367  0.025155  \n",
       "job        0.006839 -0.024455 -0.000911  0.011010  0.040438  \n",
       "marital   -0.008994  0.019172  0.014973 -0.016850  0.045588  \n",
       "education  0.006255  0.000052  0.017570 -0.019361  0.066241  \n",
       "default    0.016822 -0.029979 -0.018329  0.034898 -0.022419  \n",
       "balance   -0.014578  0.003435  0.016674 -0.020967  0.052838  \n",
       "housing   -0.023599  0.124178  0.037076 -0.099971 -0.139173  \n",
       "loan       0.009980 -0.022754 -0.011043  0.015458 -0.068185  \n",
       "contact    0.019614 -0.244816 -0.147811  0.272214 -0.148395  \n",
       "day        0.162490 -0.093044 -0.051710  0.083460 -0.028348  \n",
       "month     -0.110031  0.033065  0.022727 -0.033038 -0.024471  \n",
       "duration  -0.084570 -0.001565  0.001203  0.010925  0.394521  \n",
       "campaign   1.000000 -0.088628 -0.032855  0.101588 -0.073172  \n",
       "pdays     -0.088628  1.000000  0.454820 -0.858362  0.103621  \n",
       "previous  -0.032855  0.454820  1.000000 -0.489752  0.093236  \n",
       "poutcome   0.101588 -0.858362 -0.489752  1.000000 -0.077840  \n",
       "y         -0.073172  0.103621  0.093236 -0.077840  1.000000  "
      ]
     },
     "execution_count": 29,
     "metadata": {},
     "output_type": "execute_result"
    }
   ],
   "source": [
    "CRMX = data3.corr()\n",
    "CRMX"
   ]
  },
  {
   "cell_type": "code",
   "execution_count": 30,
   "id": "e029e808",
   "metadata": {},
   "outputs": [],
   "source": [
    "top_corr_features =CRMX.index "
   ]
  },
  {
   "cell_type": "markdown",
   "id": "17c89648",
   "metadata": {},
   "source": [
    "# plot heat map"
   ]
  },
  {
   "cell_type": "code",
   "execution_count": 31,
   "id": "2c2b9d93",
   "metadata": {},
   "outputs": [
    {
     "data": {
      "image/png": "[encoded data removed]",
      "text/plain": [
       "<Figure size 1440x720 with 2 Axes>"
      ]
     },
     "metadata": {
      "needs_background": "light"
     },
     "output_type": "display_data"
    }
   ],
   "source": [
    "plt.figure(figsize=(20,10))\n",
    "heatmap=sb.heatmap(data3[top_corr_features].corr(),annot=True,cmap=\"BuGn\")"
   ]
  },
  {
   "cell_type": "markdown",
   "id": "73d668b8",
   "metadata": {},
   "source": [
    "# Univariant Selection using SelectKBest"
   ]
  },
  {
   "cell_type": "code",
   "execution_count": 32,
   "id": "a8eaf26f",
   "metadata": {},
   "outputs": [],
   "source": [
    "from sklearn.feature_selection import SelectKBest\n",
    "from sklearn.feature_selection import chi2"
   ]
  },
  {
   "cell_type": "code",
   "execution_count": 33,
   "id": "e53d29eb",
   "metadata": {},
   "outputs": [],
   "source": [
    "#apply SelectKBest class to extract top 10 best features\n",
    "bestfeatures = SelectKBest(score_func=chi2, k=10)\n",
    "fit = bestfeatures.fit(x1,y)"
   ]
  },
  {
   "cell_type": "code",
   "execution_count": 34,
   "id": "90337345",
   "metadata": {},
   "outputs": [],
   "source": [
    "dfscores = pd.DataFrame(fit.scores_)\n",
    "dfcolumns = pd.DataFrame(x1.columns)"
   ]
  },
  {
   "cell_type": "code",
   "execution_count": 35,
   "id": "69374f41",
   "metadata": {},
   "outputs": [],
   "source": [
    "#concat two dataframes for better visualization\n",
    "featureScores = pd.concat([dfcolumns,dfscores],axis=1)"
   ]
  },
  {
   "cell_type": "code",
   "execution_count": 36,
   "id": "7abb572f",
   "metadata": {},
   "outputs": [],
   "source": [
    "featureScores.columns = ['Specs','Score'] #naming the dataframe columns\n"
   ]
  },
  {
   "cell_type": "code",
   "execution_count": 37,
   "id": "e886b78f",
   "metadata": {},
   "outputs": [
    {
     "name": "stdout",
     "output_type": "stream",
     "text": [
      "       Specs         Score\n",
      "11  duration  1.807711e+06\n",
      "5    balance  7.884598e+05\n",
      "13     pdays  1.171871e+05\n",
      "14  previous  3.593220e+03\n",
      "8    contact  1.253814e+03\n",
      "12  campaign  8.405821e+02\n",
      "6    housing  3.889497e+02\n",
      "1        job  1.824523e+02\n",
      "7       loan  1.765161e+02\n",
      "9        day  1.592004e+02\n"
     ]
    }
   ],
   "source": [
    "print(featureScores.nlargest(10,'Score')) #print 10 best features"
   ]
  },
  {
   "cell_type": "code",
   "execution_count": 38,
   "id": "cc7fc25d",
   "metadata": {},
   "outputs": [],
   "source": [
    "# .These are the best 10 features that can contribute to achieve better accuracy for our model"
   ]
  },
  {
   "cell_type": "code",
   "execution_count": 39,
   "id": "50a97767",
   "metadata": {},
   "outputs": [
    {
     "data": {
      "text/html": [
       "<div>\n",
       "<style scoped>\n",
       "    .dataframe tbody tr th:only-of-type {\n",
       "        vertical-align: middle;\n",
       "    }\n",
       "\n",
       "    .dataframe tbody tr th {\n",
       "        vertical-align: top;\n",
       "    }\n",
       "\n",
       "    .dataframe thead th {\n",
       "        text-align: right;\n",
       "    }\n",
       "</style>\n",
       "<table border=\"1\" class=\"dataframe\">\n",
       "  <thead>\n",
       "    <tr style=\"text-align: right;\">\n",
       "      <th></th>\n",
       "      <th>duration</th>\n",
       "      <th>balance</th>\n",
       "      <th>pdays</th>\n",
       "      <th>previous</th>\n",
       "      <th>contact</th>\n",
       "      <th>campaign</th>\n",
       "      <th>housing</th>\n",
       "      <th>job</th>\n",
       "      <th>loan</th>\n",
       "      <th>day</th>\n",
       "    </tr>\n",
       "  </thead>\n",
       "  <tbody>\n",
       "    <tr>\n",
       "      <th>0</th>\n",
       "      <td>261</td>\n",
       "      <td>2143</td>\n",
       "      <td>0</td>\n",
       "      <td>0</td>\n",
       "      <td>2</td>\n",
       "      <td>1</td>\n",
       "      <td>1</td>\n",
       "      <td>4</td>\n",
       "      <td>0</td>\n",
       "      <td>5</td>\n",
       "    </tr>\n",
       "    <tr>\n",
       "      <th>1</th>\n",
       "      <td>151</td>\n",
       "      <td>29</td>\n",
       "      <td>0</td>\n",
       "      <td>0</td>\n",
       "      <td>2</td>\n",
       "      <td>1</td>\n",
       "      <td>1</td>\n",
       "      <td>9</td>\n",
       "      <td>0</td>\n",
       "      <td>5</td>\n",
       "    </tr>\n",
       "    <tr>\n",
       "      <th>2</th>\n",
       "      <td>76</td>\n",
       "      <td>2</td>\n",
       "      <td>0</td>\n",
       "      <td>0</td>\n",
       "      <td>2</td>\n",
       "      <td>1</td>\n",
       "      <td>1</td>\n",
       "      <td>2</td>\n",
       "      <td>1</td>\n",
       "      <td>5</td>\n",
       "    </tr>\n",
       "    <tr>\n",
       "      <th>3</th>\n",
       "      <td>92</td>\n",
       "      <td>1506</td>\n",
       "      <td>0</td>\n",
       "      <td>0</td>\n",
       "      <td>2</td>\n",
       "      <td>1</td>\n",
       "      <td>1</td>\n",
       "      <td>1</td>\n",
       "      <td>0</td>\n",
       "      <td>5</td>\n",
       "    </tr>\n",
       "    <tr>\n",
       "      <th>4</th>\n",
       "      <td>198</td>\n",
       "      <td>1</td>\n",
       "      <td>0</td>\n",
       "      <td>0</td>\n",
       "      <td>2</td>\n",
       "      <td>1</td>\n",
       "      <td>0</td>\n",
       "      <td>11</td>\n",
       "      <td>0</td>\n",
       "      <td>5</td>\n",
       "    </tr>\n",
       "  </tbody>\n",
       "</table>\n",
       "</div>"
      ],
      "text/plain": [
       "   duration  balance  pdays  previous  contact  campaign  housing  job  loan  \\\n",
       "0       261     2143      0         0        2         1        1    4     0   \n",
       "1       151       29      0         0        2         1        1    9     0   \n",
       "2        76        2      0         0        2         1        1    2     1   \n",
       "3        92     1506      0         0        2         1        1    1     0   \n",
       "4       198        1      0         0        2         1        0   11     0   \n",
       "\n",
       "   day  \n",
       "0    5  \n",
       "1    5  \n",
       "2    5  \n",
       "3    5  \n",
       "4    5  "
      ]
     },
     "execution_count": 39,
     "metadata": {},
     "output_type": "execute_result"
    }
   ],
   "source": [
    "bk_x = x1[['duration', 'balance', 'pdays', 'previous', 'contact', 'campaign', 'housing', 'job', 'loan', 'day']]\n",
    "bk_x.head(5)\n"
   ]
  },
  {
   "cell_type": "code",
   "execution_count": 40,
   "id": "f95712f3",
   "metadata": {},
   "outputs": [
    {
     "data": {
      "text/html": [
       "<div>\n",
       "<style scoped>\n",
       "    .dataframe tbody tr th:only-of-type {\n",
       "        vertical-align: middle;\n",
       "    }\n",
       "\n",
       "    .dataframe tbody tr th {\n",
       "        vertical-align: top;\n",
       "    }\n",
       "\n",
       "    .dataframe thead th {\n",
       "        text-align: right;\n",
       "    }\n",
       "</style>\n",
       "<table border=\"1\" class=\"dataframe\">\n",
       "  <thead>\n",
       "    <tr style=\"text-align: right;\">\n",
       "      <th></th>\n",
       "      <th>duration</th>\n",
       "      <th>balance</th>\n",
       "      <th>pdays</th>\n",
       "      <th>previous</th>\n",
       "      <th>contact</th>\n",
       "      <th>campaign</th>\n",
       "      <th>housing</th>\n",
       "      <th>job</th>\n",
       "      <th>loan</th>\n",
       "      <th>day</th>\n",
       "    </tr>\n",
       "  </thead>\n",
       "  <tbody>\n",
       "    <tr>\n",
       "      <th>count</th>\n",
       "      <td>45211.000000</td>\n",
       "      <td>45211.000000</td>\n",
       "      <td>45211.000000</td>\n",
       "      <td>45211.000000</td>\n",
       "      <td>45211.000000</td>\n",
       "      <td>45211.000000</td>\n",
       "      <td>45211.000000</td>\n",
       "      <td>45211.000000</td>\n",
       "      <td>45211.000000</td>\n",
       "      <td>45211.000000</td>\n",
       "    </tr>\n",
       "    <tr>\n",
       "      <th>mean</th>\n",
       "      <td>258.163080</td>\n",
       "      <td>1388.734069</td>\n",
       "      <td>41.015195</td>\n",
       "      <td>0.580323</td>\n",
       "      <td>0.640242</td>\n",
       "      <td>2.763841</td>\n",
       "      <td>0.555838</td>\n",
       "      <td>4.339762</td>\n",
       "      <td>0.160226</td>\n",
       "      <td>15.806419</td>\n",
       "    </tr>\n",
       "    <tr>\n",
       "      <th>std</th>\n",
       "      <td>257.527812</td>\n",
       "      <td>3029.530442</td>\n",
       "      <td>99.792615</td>\n",
       "      <td>2.303441</td>\n",
       "      <td>0.897951</td>\n",
       "      <td>3.098021</td>\n",
       "      <td>0.496878</td>\n",
       "      <td>3.272657</td>\n",
       "      <td>0.366820</td>\n",
       "      <td>8.322476</td>\n",
       "    </tr>\n",
       "    <tr>\n",
       "      <th>min</th>\n",
       "      <td>0.000000</td>\n",
       "      <td>0.000000</td>\n",
       "      <td>0.000000</td>\n",
       "      <td>0.000000</td>\n",
       "      <td>0.000000</td>\n",
       "      <td>1.000000</td>\n",
       "      <td>0.000000</td>\n",
       "      <td>0.000000</td>\n",
       "      <td>0.000000</td>\n",
       "      <td>1.000000</td>\n",
       "    </tr>\n",
       "    <tr>\n",
       "      <th>25%</th>\n",
       "      <td>103.000000</td>\n",
       "      <td>72.000000</td>\n",
       "      <td>0.000000</td>\n",
       "      <td>0.000000</td>\n",
       "      <td>0.000000</td>\n",
       "      <td>1.000000</td>\n",
       "      <td>0.000000</td>\n",
       "      <td>1.000000</td>\n",
       "      <td>0.000000</td>\n",
       "      <td>8.000000</td>\n",
       "    </tr>\n",
       "    <tr>\n",
       "      <th>50%</th>\n",
       "      <td>180.000000</td>\n",
       "      <td>448.000000</td>\n",
       "      <td>0.000000</td>\n",
       "      <td>0.000000</td>\n",
       "      <td>0.000000</td>\n",
       "      <td>2.000000</td>\n",
       "      <td>1.000000</td>\n",
       "      <td>4.000000</td>\n",
       "      <td>0.000000</td>\n",
       "      <td>16.000000</td>\n",
       "    </tr>\n",
       "    <tr>\n",
       "      <th>75%</th>\n",
       "      <td>319.000000</td>\n",
       "      <td>1428.000000</td>\n",
       "      <td>0.000000</td>\n",
       "      <td>0.000000</td>\n",
       "      <td>2.000000</td>\n",
       "      <td>3.000000</td>\n",
       "      <td>1.000000</td>\n",
       "      <td>7.000000</td>\n",
       "      <td>0.000000</td>\n",
       "      <td>21.000000</td>\n",
       "    </tr>\n",
       "    <tr>\n",
       "      <th>max</th>\n",
       "      <td>4918.000000</td>\n",
       "      <td>102127.000000</td>\n",
       "      <td>871.000000</td>\n",
       "      <td>275.000000</td>\n",
       "      <td>2.000000</td>\n",
       "      <td>63.000000</td>\n",
       "      <td>1.000000</td>\n",
       "      <td>11.000000</td>\n",
       "      <td>1.000000</td>\n",
       "      <td>31.000000</td>\n",
       "    </tr>\n",
       "  </tbody>\n",
       "</table>\n",
       "</div>"
      ],
      "text/plain": [
       "           duration        balance         pdays      previous       contact  \\\n",
       "count  45211.000000   45211.000000  45211.000000  45211.000000  45211.000000   \n",
       "mean     258.163080    1388.734069     41.015195      0.580323      0.640242   \n",
       "std      257.527812    3029.530442     99.792615      2.303441      0.897951   \n",
       "min        0.000000       0.000000      0.000000      0.000000      0.000000   \n",
       "25%      103.000000      72.000000      0.000000      0.000000      0.000000   \n",
       "50%      180.000000     448.000000      0.000000      0.000000      0.000000   \n",
       "75%      319.000000    1428.000000      0.000000      0.000000      2.000000   \n",
       "max     4918.000000  102127.000000    871.000000    275.000000      2.000000   \n",
       "\n",
       "           campaign       housing           job          loan           day  \n",
       "count  45211.000000  45211.000000  45211.000000  45211.000000  45211.000000  \n",
       "mean       2.763841      0.555838      4.339762      0.160226     15.806419  \n",
       "std        3.098021      0.496878      3.272657      0.366820      8.322476  \n",
       "min        1.000000      0.000000      0.000000      0.000000      1.000000  \n",
       "25%        1.000000      0.000000      1.000000      0.000000      8.000000  \n",
       "50%        2.000000      1.000000      4.000000      0.000000     16.000000  \n",
       "75%        3.000000      1.000000      7.000000      0.000000     21.000000  \n",
       "max       63.000000      1.000000     11.000000      1.000000     31.000000  "
      ]
     },
     "execution_count": 40,
     "metadata": {},
     "output_type": "execute_result"
    }
   ],
   "source": [
    "bk_x.describe()"
   ]
  },
  {
   "cell_type": "code",
   "execution_count": 41,
   "id": "e8c6a5c9",
   "metadata": {},
   "outputs": [
    {
     "data": {
      "text/plain": [
       "0    0\n",
       "1    0\n",
       "2    0\n",
       "3    0\n",
       "4    0\n",
       "Name: y, dtype: int8"
      ]
     },
     "execution_count": 41,
     "metadata": {},
     "output_type": "execute_result"
    }
   ],
   "source": [
    "y.head(5)"
   ]
  },
  {
   "cell_type": "code",
   "execution_count": 42,
   "id": "9c164b25",
   "metadata": {},
   "outputs": [
    {
     "data": {
      "text/html": [
       "<div>\n",
       "<style scoped>\n",
       "    .dataframe tbody tr th:only-of-type {\n",
       "        vertical-align: middle;\n",
       "    }\n",
       "\n",
       "    .dataframe tbody tr th {\n",
       "        vertical-align: top;\n",
       "    }\n",
       "\n",
       "    .dataframe thead th {\n",
       "        text-align: right;\n",
       "    }\n",
       "</style>\n",
       "<table border=\"1\" class=\"dataframe\">\n",
       "  <thead>\n",
       "    <tr style=\"text-align: right;\">\n",
       "      <th></th>\n",
       "      <th>duration</th>\n",
       "      <th>balance</th>\n",
       "      <th>pdays</th>\n",
       "      <th>previous</th>\n",
       "      <th>contact</th>\n",
       "      <th>campaign</th>\n",
       "      <th>housing</th>\n",
       "      <th>job</th>\n",
       "      <th>loan</th>\n",
       "      <th>day</th>\n",
       "    </tr>\n",
       "  </thead>\n",
       "  <tbody>\n",
       "    <tr>\n",
       "      <th>duration</th>\n",
       "      <td>1.000000</td>\n",
       "      <td>0.021325</td>\n",
       "      <td>-0.001584</td>\n",
       "      <td>0.001203</td>\n",
       "      <td>-0.020839</td>\n",
       "      <td>-0.084570</td>\n",
       "      <td>0.005075</td>\n",
       "      <td>0.004744</td>\n",
       "      <td>-0.012412</td>\n",
       "      <td>-0.030206</td>\n",
       "    </tr>\n",
       "    <tr>\n",
       "      <th>balance</th>\n",
       "      <td>0.021325</td>\n",
       "      <td>1.000000</td>\n",
       "      <td>0.002627</td>\n",
       "      <td>0.016018</td>\n",
       "      <td>-0.025614</td>\n",
       "      <td>-0.014164</td>\n",
       "      <td>-0.065279</td>\n",
       "      <td>0.017850</td>\n",
       "      <td>-0.079532</td>\n",
       "      <td>0.005788</td>\n",
       "    </tr>\n",
       "    <tr>\n",
       "      <th>pdays</th>\n",
       "      <td>-0.001584</td>\n",
       "      <td>0.002627</td>\n",
       "      <td>1.000000</td>\n",
       "      <td>0.454288</td>\n",
       "      <td>-0.244526</td>\n",
       "      <td>-0.088508</td>\n",
       "      <td>0.124350</td>\n",
       "      <td>-0.024531</td>\n",
       "      <td>-0.022709</td>\n",
       "      <td>-0.093024</td>\n",
       "    </tr>\n",
       "    <tr>\n",
       "      <th>previous</th>\n",
       "      <td>0.001203</td>\n",
       "      <td>0.016018</td>\n",
       "      <td>0.454288</td>\n",
       "      <td>1.000000</td>\n",
       "      <td>-0.147811</td>\n",
       "      <td>-0.032855</td>\n",
       "      <td>0.037076</td>\n",
       "      <td>-0.000911</td>\n",
       "      <td>-0.011043</td>\n",
       "      <td>-0.051710</td>\n",
       "    </tr>\n",
       "    <tr>\n",
       "      <th>contact</th>\n",
       "      <td>-0.020839</td>\n",
       "      <td>-0.025614</td>\n",
       "      <td>-0.244526</td>\n",
       "      <td>-0.147811</td>\n",
       "      <td>1.000000</td>\n",
       "      <td>0.019614</td>\n",
       "      <td>0.188123</td>\n",
       "      <td>-0.082063</td>\n",
       "      <td>-0.010873</td>\n",
       "      <td>-0.027936</td>\n",
       "    </tr>\n",
       "    <tr>\n",
       "      <th>campaign</th>\n",
       "      <td>-0.084570</td>\n",
       "      <td>-0.014164</td>\n",
       "      <td>-0.088508</td>\n",
       "      <td>-0.032855</td>\n",
       "      <td>0.019614</td>\n",
       "      <td>1.000000</td>\n",
       "      <td>-0.023599</td>\n",
       "      <td>0.006839</td>\n",
       "      <td>0.009980</td>\n",
       "      <td>0.162490</td>\n",
       "    </tr>\n",
       "    <tr>\n",
       "      <th>housing</th>\n",
       "      <td>0.005075</td>\n",
       "      <td>-0.065279</td>\n",
       "      <td>0.124350</td>\n",
       "      <td>0.037076</td>\n",
       "      <td>0.188123</td>\n",
       "      <td>-0.023599</td>\n",
       "      <td>1.000000</td>\n",
       "      <td>-0.125363</td>\n",
       "      <td>0.041323</td>\n",
       "      <td>-0.027982</td>\n",
       "    </tr>\n",
       "    <tr>\n",
       "      <th>job</th>\n",
       "      <td>0.004744</td>\n",
       "      <td>0.017850</td>\n",
       "      <td>-0.024531</td>\n",
       "      <td>-0.000911</td>\n",
       "      <td>-0.082063</td>\n",
       "      <td>0.006839</td>\n",
       "      <td>-0.125363</td>\n",
       "      <td>1.000000</td>\n",
       "      <td>-0.033004</td>\n",
       "      <td>0.022856</td>\n",
       "    </tr>\n",
       "    <tr>\n",
       "      <th>loan</th>\n",
       "      <td>-0.012412</td>\n",
       "      <td>-0.079532</td>\n",
       "      <td>-0.022709</td>\n",
       "      <td>-0.011043</td>\n",
       "      <td>-0.010873</td>\n",
       "      <td>0.009980</td>\n",
       "      <td>0.041323</td>\n",
       "      <td>-0.033004</td>\n",
       "      <td>1.000000</td>\n",
       "      <td>0.011370</td>\n",
       "    </tr>\n",
       "    <tr>\n",
       "      <th>day</th>\n",
       "      <td>-0.030206</td>\n",
       "      <td>0.005788</td>\n",
       "      <td>-0.093024</td>\n",
       "      <td>-0.051710</td>\n",
       "      <td>-0.027936</td>\n",
       "      <td>0.162490</td>\n",
       "      <td>-0.027982</td>\n",
       "      <td>0.022856</td>\n",
       "      <td>0.011370</td>\n",
       "      <td>1.000000</td>\n",
       "    </tr>\n",
       "  </tbody>\n",
       "</table>\n",
       "</div>"
      ],
      "text/plain": [
       "          duration   balance     pdays  previous   contact  campaign  \\\n",
       "duration  1.000000  0.021325 -0.001584  0.001203 -0.020839 -0.084570   \n",
       "balance   0.021325  1.000000  0.002627  0.016018 -0.025614 -0.014164   \n",
       "pdays    -0.001584  0.002627  1.000000  0.454288 -0.244526 -0.088508   \n",
       "previous  0.001203  0.016018  0.454288  1.000000 -0.147811 -0.032855   \n",
       "contact  -0.020839 -0.025614 -0.244526 -0.147811  1.000000  0.019614   \n",
       "campaign -0.084570 -0.014164 -0.088508 -0.032855  0.019614  1.000000   \n",
       "housing   0.005075 -0.065279  0.124350  0.037076  0.188123 -0.023599   \n",
       "job       0.004744  0.017850 -0.024531 -0.000911 -0.082063  0.006839   \n",
       "loan     -0.012412 -0.079532 -0.022709 -0.011043 -0.010873  0.009980   \n",
       "day      -0.030206  0.005788 -0.093024 -0.051710 -0.027936  0.162490   \n",
       "\n",
       "           housing       job      loan       day  \n",
       "duration  0.005075  0.004744 -0.012412 -0.030206  \n",
       "balance  -0.065279  0.017850 -0.079532  0.005788  \n",
       "pdays     0.124350 -0.024531 -0.022709 -0.093024  \n",
       "previous  0.037076 -0.000911 -0.011043 -0.051710  \n",
       "contact   0.188123 -0.082063 -0.010873 -0.027936  \n",
       "campaign -0.023599  0.006839  0.009980  0.162490  \n",
       "housing   1.000000 -0.125363  0.041323 -0.027982  \n",
       "job      -0.125363  1.000000 -0.033004  0.022856  \n",
       "loan      0.041323 -0.033004  1.000000  0.011370  \n",
       "day      -0.027982  0.022856  0.011370  1.000000  "
      ]
     },
     "execution_count": 42,
     "metadata": {},
     "output_type": "execute_result"
    }
   ],
   "source": [
    "bk_x.corr()"
   ]
  },
  {
   "cell_type": "code",
   "execution_count": 43,
   "id": "d8bc9f78",
   "metadata": {},
   "outputs": [
    {
     "data": {
      "image/png": "[encoded data removed]",
      "text/plain": [
       "<Figure size 1080x576 with 2 Axes>"
      ]
     },
     "metadata": {
      "needs_background": "light"
     },
     "output_type": "display_data"
    }
   ],
   "source": [
    "plt.figure(figsize=(15,8))\n",
    "g1 = sb.heatmap(bk_x.corr(), annot=True, cmap= 'crest')"
   ]
  },
  {
   "cell_type": "markdown",
   "id": "94d30780",
   "metadata": {},
   "source": [
    "1) Above heatmap shows the correlation between the significant features."
   ]
  },
  {
   "cell_type": "markdown",
   "id": "9dc5fdbd",
   "metadata": {},
   "source": [
    "2) We can say that there's a bit relatively strong relation between features 'previous' and 'pdays' as compared to other features."
   ]
  },
  {
   "cell_type": "markdown",
   "id": "ff34fadc",
   "metadata": {},
   "source": [
    "3) Also the relation between features 'contact' and 'pdays' is the weakest among all."
   ]
  },
  {
   "cell_type": "markdown",
   "id": "06961fbd",
   "metadata": {},
   "source": [
    "# Model Building"
   ]
  },
  {
   "cell_type": "markdown",
   "id": "7003a3b6",
   "metadata": {},
   "source": [
    "# Classifier 1"
   ]
  },
  {
   "cell_type": "markdown",
   "id": "281fb049",
   "metadata": {},
   "source": [
    "# statsmodel-logit"
   ]
  },
  {
   "cell_type": "code",
   "execution_count": 44,
   "id": "c5e53851",
   "metadata": {},
   "outputs": [
    {
     "name": "stdout",
     "output_type": "stream",
     "text": [
      "Optimization terminated successfully.\n",
      "         Current function value: 0.292027\n",
      "         Iterations 8\n"
     ]
    }
   ],
   "source": [
    "classifier1 = sm.Logit(y, bk_x).fit()"
   ]
  },
  {
   "cell_type": "code",
   "execution_count": 45,
   "id": "4602720d",
   "metadata": {},
   "outputs": [
    {
     "data": {
      "text/html": [
       "<table class=\"simpletable\">\n",
       "<caption>Logit Regression Results</caption>\n",
       "<tr>\n",
       "  <th>Dep. Variable:</th>           <td>y</td>        <th>  No. Observations:  </th>  <td> 45211</td> \n",
       "</tr>\n",
       "<tr>\n",
       "  <th>Model:</th>                 <td>Logit</td>      <th>  Df Residuals:      </th>  <td> 45201</td> \n",
       "</tr>\n",
       "<tr>\n",
       "  <th>Method:</th>                 <td>MLE</td>       <th>  Df Model:          </th>  <td>     9</td> \n",
       "</tr>\n",
       "<tr>\n",
       "  <th>Date:</th>            <td>Wed, 31 May 2023</td> <th>  Pseudo R-squ.:     </th>  <td>0.1908</td> \n",
       "</tr>\n",
       "<tr>\n",
       "  <th>Time:</th>                <td>12:35:58</td>     <th>  Log-Likelihood:    </th> <td> -13203.</td>\n",
       "</tr>\n",
       "<tr>\n",
       "  <th>converged:</th>             <td>True</td>       <th>  LL-Null:           </th> <td> -16315.</td>\n",
       "</tr>\n",
       "<tr>\n",
       "  <th>Covariance Type:</th>     <td>nonrobust</td>    <th>  LLR p-value:       </th>  <td> 0.000</td> \n",
       "</tr>\n",
       "</table>\n",
       "<table class=\"simpletable\">\n",
       "<tr>\n",
       "      <td></td>        <th>coef</th>     <th>std err</th>      <th>z</th>      <th>P>|z|</th>  <th>[0.025</th>    <th>0.975]</th>  \n",
       "</tr>\n",
       "<tr>\n",
       "  <th>duration</th> <td>    0.0033</td> <td> 5.71e-05</td> <td>   57.265</td> <td> 0.000</td> <td>    0.003</td> <td>    0.003</td>\n",
       "</tr>\n",
       "<tr>\n",
       "  <th>balance</th>  <td> -1.06e-05</td> <td> 4.92e-06</td> <td>   -2.154</td> <td> 0.031</td> <td>-2.03e-05</td> <td>-9.55e-07</td>\n",
       "</tr>\n",
       "<tr>\n",
       "  <th>pdays</th>    <td>    0.0007</td> <td>    0.000</td> <td>    4.418</td> <td> 0.000</td> <td>    0.000</td> <td>    0.001</td>\n",
       "</tr>\n",
       "<tr>\n",
       "  <th>previous</th> <td>    0.0633</td> <td>    0.008</td> <td>    7.973</td> <td> 0.000</td> <td>    0.048</td> <td>    0.079</td>\n",
       "</tr>\n",
       "<tr>\n",
       "  <th>contact</th>  <td>   -0.7889</td> <td>    0.025</td> <td>  -32.092</td> <td> 0.000</td> <td>   -0.837</td> <td>   -0.741</td>\n",
       "</tr>\n",
       "<tr>\n",
       "  <th>campaign</th> <td>   -0.3301</td> <td>    0.011</td> <td>  -28.950</td> <td> 0.000</td> <td>   -0.352</td> <td>   -0.308</td>\n",
       "</tr>\n",
       "<tr>\n",
       "  <th>housing</th>  <td>   -1.4508</td> <td>    0.034</td> <td>  -42.724</td> <td> 0.000</td> <td>   -1.517</td> <td>   -1.384</td>\n",
       "</tr>\n",
       "<tr>\n",
       "  <th>job</th>      <td>   -0.0937</td> <td>    0.005</td> <td>  -20.621</td> <td> 0.000</td> <td>   -0.103</td> <td>   -0.085</td>\n",
       "</tr>\n",
       "<tr>\n",
       "  <th>loan</th>     <td>   -1.0626</td> <td>    0.055</td> <td>  -19.331</td> <td> 0.000</td> <td>   -1.170</td> <td>   -0.955</td>\n",
       "</tr>\n",
       "<tr>\n",
       "  <th>day</th>      <td>   -0.0517</td> <td>    0.002</td> <td>  -30.179</td> <td> 0.000</td> <td>   -0.055</td> <td>   -0.048</td>\n",
       "</tr>\n",
       "</table>"
      ],
      "text/plain": [
       "<class 'statsmodels.iolib.summary.Summary'>\n",
       "\"\"\"\n",
       "                           Logit Regression Results                           \n",
       "==============================================================================\n",
       "Dep. Variable:                      y   No. Observations:                45211\n",
       "Model:                          Logit   Df Residuals:                    45201\n",
       "Method:                           MLE   Df Model:                            9\n",
       "Date:                Wed, 31 May 2023   Pseudo R-squ.:                  0.1908\n",
       "Time:                        12:35:58   Log-Likelihood:                -13203.\n",
       "converged:                       True   LL-Null:                       -16315.\n",
       "Covariance Type:            nonrobust   LLR p-value:                     0.000\n",
       "==============================================================================\n",
       "                 coef    std err          z      P>|z|      [0.025      0.975]\n",
       "------------------------------------------------------------------------------\n",
       "duration       0.0033   5.71e-05     57.265      0.000       0.003       0.003\n",
       "balance     -1.06e-05   4.92e-06     -2.154      0.031   -2.03e-05   -9.55e-07\n",
       "pdays          0.0007      0.000      4.418      0.000       0.000       0.001\n",
       "previous       0.0633      0.008      7.973      0.000       0.048       0.079\n",
       "contact       -0.7889      0.025    -32.092      0.000      -0.837      -0.741\n",
       "campaign      -0.3301      0.011    -28.950      0.000      -0.352      -0.308\n",
       "housing       -1.4508      0.034    -42.724      0.000      -1.517      -1.384\n",
       "job           -0.0937      0.005    -20.621      0.000      -0.103      -0.085\n",
       "loan          -1.0626      0.055    -19.331      0.000      -1.170      -0.955\n",
       "day           -0.0517      0.002    -30.179      0.000      -0.055      -0.048\n",
       "==============================================================================\n",
       "\"\"\""
      ]
     },
     "execution_count": 45,
     "metadata": {},
     "output_type": "execute_result"
    }
   ],
   "source": [
    "classifier1.summary()"
   ]
  },
  {
   "cell_type": "code",
   "execution_count": 46,
   "id": "2975e5aa",
   "metadata": {},
   "outputs": [
    {
     "data": {
      "text/plain": [
       "duration    0.003271\n",
       "balance    -0.000011\n",
       "pdays       0.000733\n",
       "previous    0.063267\n",
       "contact    -0.788923\n",
       "campaign   -0.330111\n",
       "housing    -1.450791\n",
       "job        -0.093711\n",
       "loan       -1.062574\n",
       "day        -0.051714\n",
       "dtype: float64"
      ]
     },
     "execution_count": 46,
     "metadata": {},
     "output_type": "execute_result"
    }
   ],
   "source": [
    "classifier1.params"
   ]
  },
  {
   "cell_type": "code",
   "execution_count": 47,
   "id": "fed44277",
   "metadata": {},
   "outputs": [
    {
     "data": {
      "text/plain": [
       "0    0.040651\n",
       "1    0.018576\n",
       "2    0.009769\n",
       "3    0.031490\n",
       "dtype: float64"
      ]
     },
     "execution_count": 47,
     "metadata": {},
     "output_type": "execute_result"
    }
   ],
   "source": [
    "y_pred1 = classifier1.predict(bk_x)\n",
    "y_pred1.head(4)"
   ]
  },
  {
   "cell_type": "code",
   "execution_count": 48,
   "id": "699e52a0",
   "metadata": {},
   "outputs": [],
   "source": [
    "y_pred1 = list(map(round, y_pred1))\n",
    "y_pred1 = pd.DataFrame(y_pred1)"
   ]
  },
  {
   "cell_type": "code",
   "execution_count": 49,
   "id": "d9d4c24f",
   "metadata": {},
   "outputs": [
    {
     "data": {
      "text/html": [
       "<div>\n",
       "<style scoped>\n",
       "    .dataframe tbody tr th:only-of-type {\n",
       "        vertical-align: middle;\n",
       "    }\n",
       "\n",
       "    .dataframe tbody tr th {\n",
       "        vertical-align: top;\n",
       "    }\n",
       "\n",
       "    .dataframe thead th {\n",
       "        text-align: right;\n",
       "    }\n",
       "</style>\n",
       "<table border=\"1\" class=\"dataframe\">\n",
       "  <thead>\n",
       "    <tr style=\"text-align: right;\">\n",
       "      <th></th>\n",
       "      <th>y</th>\n",
       "      <th>0</th>\n",
       "    </tr>\n",
       "  </thead>\n",
       "  <tbody>\n",
       "    <tr>\n",
       "      <th>0</th>\n",
       "      <td>0</td>\n",
       "      <td>0</td>\n",
       "    </tr>\n",
       "    <tr>\n",
       "      <th>1</th>\n",
       "      <td>0</td>\n",
       "      <td>0</td>\n",
       "    </tr>\n",
       "    <tr>\n",
       "      <th>2</th>\n",
       "      <td>0</td>\n",
       "      <td>0</td>\n",
       "    </tr>\n",
       "    <tr>\n",
       "      <th>3</th>\n",
       "      <td>0</td>\n",
       "      <td>0</td>\n",
       "    </tr>\n",
       "    <tr>\n",
       "      <th>4</th>\n",
       "      <td>0</td>\n",
       "      <td>0</td>\n",
       "    </tr>\n",
       "  </tbody>\n",
       "</table>\n",
       "</div>"
      ],
      "text/plain": [
       "   y  0\n",
       "0  0  0\n",
       "1  0  0\n",
       "2  0  0\n",
       "3  0  0\n",
       "4  0  0"
      ]
     },
     "execution_count": 49,
     "metadata": {},
     "output_type": "execute_result"
    }
   ],
   "source": [
    "prediction1 = pd.concat([y,y_pred1], axis = 1)\n",
    "prediction1.head(5)"
   ]
  },
  {
   "cell_type": "code",
   "execution_count": 50,
   "id": "0190361f",
   "metadata": {},
   "outputs": [
    {
     "data": {
      "text/html": [
       "<div>\n",
       "<style scoped>\n",
       "    .dataframe tbody tr th:only-of-type {\n",
       "        vertical-align: middle;\n",
       "    }\n",
       "\n",
       "    .dataframe tbody tr th {\n",
       "        vertical-align: top;\n",
       "    }\n",
       "\n",
       "    .dataframe thead th {\n",
       "        text-align: right;\n",
       "    }\n",
       "</style>\n",
       "<table border=\"1\" class=\"dataframe\">\n",
       "  <thead>\n",
       "    <tr style=\"text-align: right;\">\n",
       "      <th></th>\n",
       "      <th>y</th>\n",
       "      <th>0</th>\n",
       "    </tr>\n",
       "  </thead>\n",
       "  <tbody>\n",
       "    <tr>\n",
       "      <th>45206</th>\n",
       "      <td>1</td>\n",
       "      <td>1</td>\n",
       "    </tr>\n",
       "    <tr>\n",
       "      <th>45207</th>\n",
       "      <td>1</td>\n",
       "      <td>0</td>\n",
       "    </tr>\n",
       "    <tr>\n",
       "      <th>45208</th>\n",
       "      <td>1</td>\n",
       "      <td>1</td>\n",
       "    </tr>\n",
       "    <tr>\n",
       "      <th>45209</th>\n",
       "      <td>0</td>\n",
       "      <td>0</td>\n",
       "    </tr>\n",
       "    <tr>\n",
       "      <th>45210</th>\n",
       "      <td>0</td>\n",
       "      <td>1</td>\n",
       "    </tr>\n",
       "  </tbody>\n",
       "</table>\n",
       "</div>"
      ],
      "text/plain": [
       "       y  0\n",
       "45206  1  1\n",
       "45207  1  0\n",
       "45208  1  1\n",
       "45209  0  0\n",
       "45210  0  1"
      ]
     },
     "execution_count": 50,
     "metadata": {},
     "output_type": "execute_result"
    }
   ],
   "source": [
    "prediction1.tail(5)"
   ]
  },
  {
   "cell_type": "code",
   "execution_count": 51,
   "id": "ea5c2f8c",
   "metadata": {},
   "outputs": [
    {
     "data": {
      "text/html": [
       "<div>\n",
       "<style scoped>\n",
       "    .dataframe tbody tr th:only-of-type {\n",
       "        vertical-align: middle;\n",
       "    }\n",
       "\n",
       "    .dataframe tbody tr th {\n",
       "        vertical-align: top;\n",
       "    }\n",
       "\n",
       "    .dataframe thead th {\n",
       "        text-align: right;\n",
       "    }\n",
       "</style>\n",
       "<table border=\"1\" class=\"dataframe\">\n",
       "  <thead>\n",
       "    <tr style=\"text-align: right;\">\n",
       "      <th></th>\n",
       "      <th>y</th>\n",
       "      <th>0</th>\n",
       "    </tr>\n",
       "  </thead>\n",
       "  <tbody>\n",
       "    <tr>\n",
       "      <th>0</th>\n",
       "      <td>0</td>\n",
       "      <td>0</td>\n",
       "    </tr>\n",
       "    <tr>\n",
       "      <th>1</th>\n",
       "      <td>0</td>\n",
       "      <td>0</td>\n",
       "    </tr>\n",
       "    <tr>\n",
       "      <th>2</th>\n",
       "      <td>0</td>\n",
       "      <td>0</td>\n",
       "    </tr>\n",
       "    <tr>\n",
       "      <th>3</th>\n",
       "      <td>0</td>\n",
       "      <td>0</td>\n",
       "    </tr>\n",
       "    <tr>\n",
       "      <th>4</th>\n",
       "      <td>0</td>\n",
       "      <td>0</td>\n",
       "    </tr>\n",
       "    <tr>\n",
       "      <th>...</th>\n",
       "      <td>...</td>\n",
       "      <td>...</td>\n",
       "    </tr>\n",
       "    <tr>\n",
       "      <th>45206</th>\n",
       "      <td>1</td>\n",
       "      <td>1</td>\n",
       "    </tr>\n",
       "    <tr>\n",
       "      <th>45207</th>\n",
       "      <td>1</td>\n",
       "      <td>0</td>\n",
       "    </tr>\n",
       "    <tr>\n",
       "      <th>45208</th>\n",
       "      <td>1</td>\n",
       "      <td>1</td>\n",
       "    </tr>\n",
       "    <tr>\n",
       "      <th>45209</th>\n",
       "      <td>0</td>\n",
       "      <td>0</td>\n",
       "    </tr>\n",
       "    <tr>\n",
       "      <th>45210</th>\n",
       "      <td>0</td>\n",
       "      <td>1</td>\n",
       "    </tr>\n",
       "  </tbody>\n",
       "</table>\n",
       "<p>45211 rows × 2 columns</p>\n",
       "</div>"
      ],
      "text/plain": [
       "       y  0\n",
       "0      0  0\n",
       "1      0  0\n",
       "2      0  0\n",
       "3      0  0\n",
       "4      0  0\n",
       "...   .. ..\n",
       "45206  1  1\n",
       "45207  1  0\n",
       "45208  1  1\n",
       "45209  0  0\n",
       "45210  0  1\n",
       "\n",
       "[45211 rows x 2 columns]"
      ]
     },
     "execution_count": 51,
     "metadata": {},
     "output_type": "execute_result"
    }
   ],
   "source": [
    "prediction1"
   ]
  },
  {
   "cell_type": "markdown",
   "id": "257d3e36",
   "metadata": {},
   "source": [
    "# Classifer 2"
   ]
  },
  {
   "cell_type": "markdown",
   "id": "223ddf5f",
   "metadata": {},
   "source": [
    "# Normalizing 'bank_x'"
   ]
  },
  {
   "cell_type": "code",
   "execution_count": 52,
   "id": "e72192ef",
   "metadata": {},
   "outputs": [],
   "source": [
    "scalar = MinMaxScaler(feature_range= (0,1))\n",
    "scalar.fit(bk_x)\n",
    "scaled_x = scalar.transform(bk_x)"
   ]
  },
  {
   "cell_type": "code",
   "execution_count": 53,
   "id": "37238039",
   "metadata": {},
   "outputs": [
    {
     "data": {
      "text/plain": [
       "array([[5.30703538e-02, 2.09836772e-02, 0.00000000e+00, ...,\n",
       "        3.63636364e-01, 0.00000000e+00, 1.33333333e-01],\n",
       "       [3.07035380e-02, 2.83960167e-04, 0.00000000e+00, ...,\n",
       "        8.18181818e-01, 0.00000000e+00, 1.33333333e-01],\n",
       "       [1.54534364e-02, 1.95834598e-05, 0.00000000e+00, ...,\n",
       "        1.81818182e-01, 1.00000000e+00, 1.33333333e-01],\n",
       "       ...,\n",
       "       [2.29158194e-01, 5.59597364e-02, 2.11251435e-01, ...,\n",
       "        4.54545455e-01, 0.00000000e+00, 5.33333333e-01],\n",
       "       [1.03294022e-01, 6.54087558e-03, 0.00000000e+00, ...,\n",
       "        9.09090909e-02, 0.00000000e+00, 5.33333333e-01],\n",
       "       [7.34038227e-02, 2.90912295e-02, 2.15843858e-01, ...,\n",
       "        1.81818182e-01, 0.00000000e+00, 5.33333333e-01]])"
      ]
     },
     "execution_count": 53,
     "metadata": {},
     "output_type": "execute_result"
    }
   ],
   "source": [
    "scaled_x"
   ]
  },
  {
   "cell_type": "code",
   "execution_count": 54,
   "id": "976d4610",
   "metadata": {},
   "outputs": [
    {
     "data": {
      "text/plain": [
       "LogisticRegression()"
      ]
     },
     "execution_count": 54,
     "metadata": {},
     "output_type": "execute_result"
    }
   ],
   "source": [
    "classifier2 = LogisticRegression()\n",
    "classifier2.fit(scaled_x,y)"
   ]
  },
  {
   "cell_type": "code",
   "execution_count": 55,
   "id": "50c203ca",
   "metadata": {},
   "outputs": [
    {
     "data": {
      "text/plain": [
       "array([[17.72273709,  2.00537386,  2.32192876,  3.68882538, -1.16168868,\n",
       "        -6.09988223, -1.03019879,  0.1610244 , -0.7190179 , -0.16780812]])"
      ]
     },
     "execution_count": 55,
     "metadata": {},
     "output_type": "execute_result"
    }
   ],
   "source": [
    "classifier2.coef_\n"
   ]
  },
  {
   "cell_type": "code",
   "execution_count": 56,
   "id": "615fe31a",
   "metadata": {},
   "outputs": [
    {
     "data": {
      "text/plain": [
       "array([[0.97326394, 0.02673606],\n",
       "       [0.98128176, 0.01871824],\n",
       "       [0.99364193, 0.00635807],\n",
       "       ...,\n",
       "       [0.13320987, 0.86679013],\n",
       "       [0.82180956, 0.17819044],\n",
       "       [0.63926829, 0.36073171]])"
      ]
     },
     "execution_count": 56,
     "metadata": {},
     "output_type": "execute_result"
    }
   ],
   "source": [
    "proba = classifier2.predict_proba(scaled_x)\n",
    "proba"
   ]
  },
  {
   "cell_type": "code",
   "execution_count": 57,
   "id": "a3567dc5",
   "metadata": {},
   "outputs": [
    {
     "data": {
      "text/plain": [
       "array([0, 0, 0, ..., 1, 0, 0], dtype=int8)"
      ]
     },
     "execution_count": 57,
     "metadata": {},
     "output_type": "execute_result"
    }
   ],
   "source": [
    "y_pred2 = classifier2.predict(scaled_x)\n",
    "y_pred2"
   ]
  },
  {
   "cell_type": "markdown",
   "id": "eb615fc8",
   "metadata": {},
   "source": [
    "# Model validation"
   ]
  },
  {
   "cell_type": "code",
   "execution_count": 58,
   "id": "d6e2f298",
   "metadata": {},
   "outputs": [
    {
     "name": "stdout",
     "output_type": "stream",
     "text": [
      "[[39265   657]\n",
      " [ 4303   986]]\n"
     ]
    }
   ],
   "source": [
    "confusion_matrix = confusion_matrix(y,y_pred2)\n",
    "print(confusion_matrix)"
   ]
  },
  {
   "cell_type": "code",
   "execution_count": 59,
   "id": "aef8bd3e",
   "metadata": {},
   "outputs": [
    {
     "data": {
      "text/html": [
       "<div>\n",
       "<style scoped>\n",
       "    .dataframe tbody tr th:only-of-type {\n",
       "        vertical-align: middle;\n",
       "    }\n",
       "\n",
       "    .dataframe tbody tr th {\n",
       "        vertical-align: top;\n",
       "    }\n",
       "\n",
       "    .dataframe thead th {\n",
       "        text-align: right;\n",
       "    }\n",
       "</style>\n",
       "<table border=\"1\" class=\"dataframe\">\n",
       "  <thead>\n",
       "    <tr style=\"text-align: right;\">\n",
       "      <th>col_0</th>\n",
       "      <th>0</th>\n",
       "      <th>1</th>\n",
       "    </tr>\n",
       "    <tr>\n",
       "      <th>y</th>\n",
       "      <th></th>\n",
       "      <th></th>\n",
       "    </tr>\n",
       "  </thead>\n",
       "  <tbody>\n",
       "    <tr>\n",
       "      <th>0</th>\n",
       "      <td>39265</td>\n",
       "      <td>657</td>\n",
       "    </tr>\n",
       "    <tr>\n",
       "      <th>1</th>\n",
       "      <td>4303</td>\n",
       "      <td>986</td>\n",
       "    </tr>\n",
       "  </tbody>\n",
       "</table>\n",
       "</div>"
      ],
      "text/plain": [
       "col_0      0    1\n",
       "y                \n",
       "0      39265  657\n",
       "1       4303  986"
      ]
     },
     "execution_count": 59,
     "metadata": {},
     "output_type": "execute_result"
    }
   ],
   "source": [
    "pd.crosstab(y,y_pred2)"
   ]
  },
  {
   "cell_type": "code",
   "execution_count": 60,
   "id": "a7a17533",
   "metadata": {},
   "outputs": [
    {
     "data": {
      "text/plain": [
       "89.02921855300701"
      ]
     },
     "execution_count": 60,
     "metadata": {},
     "output_type": "execute_result"
    }
   ],
   "source": [
    "((39265+986)/(39265+986+657+4303))*100"
   ]
  },
  {
   "cell_type": "code",
   "execution_count": 61,
   "id": "a56e1970",
   "metadata": {},
   "outputs": [
    {
     "data": {
      "text/plain": [
       "0.8902921855300702"
      ]
     },
     "execution_count": 61,
     "metadata": {},
     "output_type": "execute_result"
    }
   ],
   "source": [
    "accuracy = sum(y==y_pred2)/data.shape[0] #bank.shape[0] : All rows\n",
    "accuracy"
   ]
  },
  {
   "cell_type": "code",
   "execution_count": 62,
   "id": "fe85a70d",
   "metadata": {},
   "outputs": [
    {
     "name": "stdout",
     "output_type": "stream",
     "text": [
      "              precision    recall  f1-score   support\n",
      "\n",
      "           0       0.90      0.98      0.94     39922\n",
      "           1       0.60      0.19      0.28      5289\n",
      "\n",
      "    accuracy                           0.89     45211\n",
      "   macro avg       0.75      0.58      0.61     45211\n",
      "weighted avg       0.87      0.89      0.86     45211\n",
      "\n"
     ]
    }
   ],
   "source": [
    "print( classification_report(y,y_pred2))"
   ]
  },
  {
   "cell_type": "code",
   "execution_count": 63,
   "id": "83cbd687",
   "metadata": {},
   "outputs": [
    {
     "data": {
      "text/plain": [
       "0.584983781808067"
      ]
     },
     "execution_count": 63,
     "metadata": {},
     "output_type": "execute_result"
    }
   ],
   "source": [
    "roc_score = roc_auc_score(y, y_pred2)\n",
    "roc_score"
   ]
  },
  {
   "cell_type": "code",
   "execution_count": 64,
   "id": "801bbe99",
   "metadata": {},
   "outputs": [
    {
     "data": {
      "image/png": "[encoded data removed]",
      "text/plain": [
       "<Figure size 432x288 with 1 Axes>"
      ]
     },
     "metadata": {
      "needs_background": "light"
     },
     "output_type": "display_data"
    }
   ],
   "source": [
    "fpr, tpr, thresholds = roc_curve(y,proba[:,1])\n",
    "plt.plot(fpr, tpr, label='Logistic Regression (area=%0.2f)'% roc_score)\n",
    "plt.plot([0, 1], [0, 1],'r-') # 'r-' : red coloured dash line\n",
    "plt.xlim([0.0, 1.0])\n",
    "plt.ylim([0.0, 1.05])\n",
    "plt.xlabel('False Positive Rate')\n",
    "plt.ylabel('True Positive Rate')\n",
    "plt.title('Receiver operating characteristic')\n",
    "plt.legend(loc=\"lower right\")\n",
    "plt.show()"
   ]
  },
  {
   "cell_type": "code",
   "execution_count": 65,
   "id": "896893aa",
   "metadata": {},
   "outputs": [
    {
     "data": {
      "text/plain": [
       "array([0.00000000e+00, 2.50488452e-05, 2.50488452e-05, ...,\n",
       "       9.88452482e-01, 9.88452482e-01, 1.00000000e+00])"
      ]
     },
     "execution_count": 65,
     "metadata": {},
     "output_type": "execute_result"
    }
   ],
   "source": [
    "fpr"
   ]
  },
  {
   "cell_type": "code",
   "execution_count": 66,
   "id": "6801fd52",
   "metadata": {},
   "outputs": [
    {
     "data": {
      "text/plain": [
       "array([0.00000000e+00, 0.00000000e+00, 1.89071658e-04, ...,\n",
       "       9.99810928e-01, 1.00000000e+00, 1.00000000e+00])"
      ]
     },
     "execution_count": 66,
     "metadata": {},
     "output_type": "execute_result"
    }
   ],
   "source": [
    "tpr"
   ]
  },
  {
   "cell_type": "markdown",
   "id": "c6c947e2",
   "metadata": {},
   "source": [
    "# Improving classifier 2"
   ]
  },
  {
   "cell_type": "code",
   "execution_count": 67,
   "id": "fa6482b0",
   "metadata": {},
   "outputs": [
    {
     "data": {
      "text/plain": [
       "LogisticRegression(C=20.0, random_state=1, solver='saga')"
      ]
     },
     "execution_count": 67,
     "metadata": {},
     "output_type": "execute_result"
    }
   ],
   "source": [
    "model1 = LogisticRegression(solver='saga', C=20.0, random_state=1)\n",
    "model1.fit(scaled_x, y)"
   ]
  },
  {
   "cell_type": "code",
   "execution_count": 68,
   "id": "c6f4a079",
   "metadata": {},
   "outputs": [
    {
     "data": {
      "text/plain": [
       "array([[0.97466396, 0.02533604],\n",
       "       [0.98294935, 0.01705065],\n",
       "       [0.99446154, 0.00553846],\n",
       "       ...,\n",
       "       [0.1096837 , 0.8903163 ],\n",
       "       [0.82672132, 0.17327868],\n",
       "       [0.52685741, 0.47314259]])"
      ]
     },
     "execution_count": 68,
     "metadata": {},
     "output_type": "execute_result"
    }
   ],
   "source": [
    "new_prob = model1.predict_proba(scaled_x)\n",
    "new_prob"
   ]
  },
  {
   "cell_type": "code",
   "execution_count": 69,
   "id": "69aa7193",
   "metadata": {},
   "outputs": [
    {
     "data": {
      "text/plain": [
       "array([0, 0, 0, ..., 1, 0, 0], dtype=int8)"
      ]
     },
     "execution_count": 69,
     "metadata": {},
     "output_type": "execute_result"
    }
   ],
   "source": [
    "y_pred3 = model1.predict(scaled_x)\n",
    "y_pred3"
   ]
  },
  {
   "cell_type": "code",
   "execution_count": 70,
   "id": "a9ca178f",
   "metadata": {},
   "outputs": [
    {
     "data": {
      "text/plain": [
       "0.8908451483046161"
      ]
     },
     "execution_count": 70,
     "metadata": {},
     "output_type": "execute_result"
    }
   ],
   "source": [
    "model1.score(scaled_x, y)"
   ]
  },
  {
   "cell_type": "code",
   "execution_count": 71,
   "id": "7c97fba3",
   "metadata": {},
   "outputs": [
    {
     "name": "stdout",
     "output_type": "stream",
     "text": [
      "              precision    recall  f1-score   support\n",
      "\n",
      "           0       0.90      0.98      0.94     39922\n",
      "           1       0.60      0.21      0.31      5289\n",
      "\n",
      "    accuracy                           0.89     45211\n",
      "   macro avg       0.75      0.59      0.62     45211\n",
      "weighted avg       0.87      0.89      0.87     45211\n",
      "\n"
     ]
    }
   ],
   "source": [
    "cr = classification_report(y,y_pred3)\n",
    "print(cr)"
   ]
  },
  {
   "cell_type": "code",
   "execution_count": 72,
   "id": "5599e813",
   "metadata": {},
   "outputs": [
    {
     "data": {
      "text/plain": [
       "0.5938260786450008"
      ]
     },
     "execution_count": 72,
     "metadata": {},
     "output_type": "execute_result"
    }
   ],
   "source": [
    "roc_score1 = roc_auc_score(y, y_pred3)\n",
    "roc_score1"
   ]
  },
  {
   "cell_type": "code",
   "execution_count": 73,
   "id": "44ba1705",
   "metadata": {},
   "outputs": [],
   "source": [
    "# .Here, we got an improved model just by setting up parameters for LogisticRegression() model.\n",
    "# .We can see an improved score of 0.890845 and improved roc_score of 0.593826 as compared to classifier 2"
   ]
  },
  {
   "cell_type": "code",
   "execution_count": 74,
   "id": "cc60f862",
   "metadata": {},
   "outputs": [
    {
     "data": {
      "image/png": "[encoded data removed]",
      "text/plain": [
       "<Figure size 432x288 with 1 Axes>"
      ]
     },
     "metadata": {
      "needs_background": "light"
     },
     "output_type": "display_data"
    }
   ],
   "source": [
    "fpr, tpr, thresholds = roc_curve(y,new_prob[:,1])\n",
    "plt.plot(fpr, tpr, label='Logistic Regression (area=%0.2f)'% roc_score1)\n",
    "plt.plot([0, 1], [0, 1],'r--')\n",
    "plt.xlim([0.0, 1.0])\n",
    "plt.ylim([0.0, 1.05])\n",
    "plt.xlabel('False Positive Rate')\n",
    "plt.ylabel('True Positive Rate')\n",
    "plt.title('Receiver operating characteristic')\n",
    "plt.legend(loc=\"lower right\")\n",
    "plt.show()"
   ]
  },
  {
   "cell_type": "code",
   "execution_count": 75,
   "id": "8be0264f",
   "metadata": {},
   "outputs": [
    {
     "data": {
      "text/plain": [
       "array([0.00000000e+00, 2.50488452e-05, 5.00976905e-05, ...,\n",
       "       9.93437203e-01, 9.93437203e-01, 1.00000000e+00])"
      ]
     },
     "execution_count": 75,
     "metadata": {},
     "output_type": "execute_result"
    }
   ],
   "source": [
    "fpr"
   ]
  },
  {
   "cell_type": "code",
   "execution_count": 76,
   "id": "48e4973a",
   "metadata": {},
   "outputs": [
    {
     "data": {
      "text/plain": [
       "array([0.        , 0.        , 0.        , ..., 0.99981093, 1.        ,\n",
       "       1.        ])"
      ]
     },
     "execution_count": 76,
     "metadata": {},
     "output_type": "execute_result"
    }
   ],
   "source": [
    "tpr"
   ]
  },
  {
   "cell_type": "code",
   "execution_count": 77,
   "id": "1795e607",
   "metadata": {},
   "outputs": [
    {
     "data": {
      "text/plain": [
       "(45211, 10)"
      ]
     },
     "execution_count": 77,
     "metadata": {},
     "output_type": "execute_result"
    }
   ],
   "source": [
    "bk_x.shape"
   ]
  },
  {
   "cell_type": "code",
   "execution_count": 78,
   "id": "60b581bb",
   "metadata": {},
   "outputs": [
    {
     "data": {
      "text/plain": [
       "(45211,)"
      ]
     },
     "execution_count": 78,
     "metadata": {},
     "output_type": "execute_result"
    }
   ],
   "source": [
    "y.shape"
   ]
  },
  {
   "cell_type": "code",
   "execution_count": 79,
   "id": "9e8a67bb",
   "metadata": {},
   "outputs": [],
   "source": [
    "x3 = bk_x.values\n",
    "y3 = y.values"
   ]
  },
  {
   "cell_type": "code",
   "execution_count": 80,
   "id": "cf701dbd",
   "metadata": {},
   "outputs": [],
   "source": [
    "# Splitting the data for training and testing\n",
    "xtrain, xtest, ytrain, ytest = train_test_split(x3, y3, test_size = 0.20, random_state = 10)"
   ]
  },
  {
   "cell_type": "markdown",
   "id": "815ebb7d",
   "metadata": {},
   "source": [
    "# standerzing 'xtrain' and 'xtest'"
   ]
  },
  {
   "cell_type": "code",
   "execution_count": 81,
   "id": "7de1f853",
   "metadata": {},
   "outputs": [],
   "source": [
    "from sklearn.preprocessing import StandardScaler\n",
    "sc_x = StandardScaler()\n",
    "xtrain = sc_x.fit_transform(xtrain)\n",
    "xtest = sc_x.transform(xtest)\n"
   ]
  },
  {
   "cell_type": "code",
   "execution_count": 82,
   "id": "cbe05c78",
   "metadata": {},
   "outputs": [
    {
     "name": "stdout",
     "output_type": "stream",
     "text": [
      "[[-0.30738733 -0.45356646 -0.41189017 -0.24419181 -0.71144243 -0.24894678\n",
      "   0.89399326  1.42538934 -0.43702462  0.62689417]\n",
      " [-0.29571388  0.01207209 -0.41189017 -0.24419181 -0.71144243 -0.57282833\n",
      "   0.89399326 -1.01971428  2.28820062 -0.93643115]\n",
      " [-0.92218909 -0.40758954 -0.41189017 -0.24419181  1.51764318  2.34210565\n",
      "   0.89399326 -1.01971428  2.28820062 -0.21489639]\n",
      " [ 0.43193125 -0.35900401 -0.41189017 -0.24419181  1.51764318 -0.57282833\n",
      "   0.89399326  0.50847548 -0.43702462  0.50663838]\n",
      " [-0.33073423  2.16809592 -0.41189017 -0.24419181 -0.71144243 -0.24894678\n",
      "   0.89399326 -1.01971428 -0.43702462 -0.33515218]]\n"
     ]
    }
   ],
   "source": [
    "print(xtrain[0:5,:])"
   ]
  },
  {
   "cell_type": "code",
   "execution_count": 83,
   "id": "6422f814",
   "metadata": {},
   "outputs": [
    {
     "name": "stdout",
     "output_type": "stream",
     "text": [
      "[[ 0.41636665 -0.45356646 -0.41189017 -0.24419181  1.51764318  0.39881633\n",
      "   0.89399326  1.42538934 -0.43702462  0.50663838]\n",
      " [-0.73930502  0.13989443 -0.41189017 -0.24419181  1.51764318 -0.57282833\n",
      "   0.89399326  0.50847548 -0.43702462  0.50663838]\n",
      " [ 2.52147902  0.28108595 -0.41189017 -0.24419181  1.51764318 -0.24894678\n",
      "   0.89399326 -0.10280042 -0.43702462  0.26612679]\n",
      " [-0.25291122  1.97538417 -0.41189017 -0.24419181 -0.71144243 -0.57282833\n",
      "   0.89399326  1.42538934 -0.43702462 -1.05668694]\n",
      " [ 0.69652948 -0.43432789 -0.41189017 -0.24419181  1.51764318 -0.24894678\n",
      "  -1.11857666 -0.71407633 -0.43702462 -0.33515218]]\n"
     ]
    }
   ],
   "source": [
    "print(xtest[0:5,:])"
   ]
  },
  {
   "cell_type": "markdown",
   "id": "65c3703f",
   "metadata": {},
   "source": [
    "# Model Building"
   ]
  },
  {
   "cell_type": "code",
   "execution_count": 84,
   "id": "647fe956",
   "metadata": {},
   "outputs": [
    {
     "data": {
      "text/plain": [
       "LogisticRegression(C=10, n_jobs=10, random_state=10)"
      ]
     },
     "execution_count": 84,
     "metadata": {},
     "output_type": "execute_result"
    }
   ],
   "source": [
    "classifier3 = LogisticRegression(C = 10, random_state = 10, solver = 'lbfgs', n_jobs = 10)\n",
    "classifier3.fit(xtrain, ytrain)"
   ]
  },
  {
   "cell_type": "code",
   "execution_count": 85,
   "id": "bd8e2e95",
   "metadata": {},
   "outputs": [
    {
     "data": {
      "text/plain": [
       "array([0, 0, 0, ..., 0, 0, 0], dtype=int8)"
      ]
     },
     "execution_count": 85,
     "metadata": {},
     "output_type": "execute_result"
    }
   ],
   "source": [
    "y_pred4 = classifier3.predict(xtest)\n",
    "y_pred4"
   ]
  },
  {
   "cell_type": "code",
   "execution_count": 86,
   "id": "77046174",
   "metadata": {},
   "outputs": [
    {
     "data": {
      "text/plain": [
       "array([39265, 39265, 39265, ..., 39265, 39265, 39265], dtype=int64)"
      ]
     },
     "execution_count": 86,
     "metadata": {},
     "output_type": "execute_result"
    }
   ],
   "source": [
    "# Printing Confusion Matrix\n",
    "conf_matrix3 =confusion_matrix[ytest ,y_pred4]\n",
    "conf_matrix3"
   ]
  },
  {
   "cell_type": "code",
   "execution_count": 87,
   "id": "639ded23",
   "metadata": {},
   "outputs": [
    {
     "data": {
      "text/html": [
       "<div>\n",
       "<style scoped>\n",
       "    .dataframe tbody tr th:only-of-type {\n",
       "        vertical-align: middle;\n",
       "    }\n",
       "\n",
       "    .dataframe tbody tr th {\n",
       "        vertical-align: top;\n",
       "    }\n",
       "\n",
       "    .dataframe thead th {\n",
       "        text-align: right;\n",
       "    }\n",
       "</style>\n",
       "<table border=\"1\" class=\"dataframe\">\n",
       "  <thead>\n",
       "    <tr style=\"text-align: right;\">\n",
       "      <th>col_0</th>\n",
       "      <th>0</th>\n",
       "      <th>1</th>\n",
       "    </tr>\n",
       "    <tr>\n",
       "      <th>row_0</th>\n",
       "      <th></th>\n",
       "      <th></th>\n",
       "    </tr>\n",
       "  </thead>\n",
       "  <tbody>\n",
       "    <tr>\n",
       "      <th>0</th>\n",
       "      <td>7851</td>\n",
       "      <td>143</td>\n",
       "    </tr>\n",
       "    <tr>\n",
       "      <th>1</th>\n",
       "      <td>836</td>\n",
       "      <td>213</td>\n",
       "    </tr>\n",
       "  </tbody>\n",
       "</table>\n",
       "</div>"
      ],
      "text/plain": [
       "col_0     0    1\n",
       "row_0           \n",
       "0      7851  143\n",
       "1       836  213"
      ]
     },
     "execution_count": 87,
     "metadata": {},
     "output_type": "execute_result"
    }
   ],
   "source": [
    "pd.crosstab(ytest,y_pred4)"
   ]
  },
  {
   "cell_type": "code",
   "execution_count": 88,
   "id": "2cda8f14",
   "metadata": {},
   "outputs": [
    {
     "data": {
      "text/plain": [
       "array([[0.97617463, 0.02382537],\n",
       "       [0.98889506, 0.01110494],\n",
       "       [0.787309  , 0.212691  ],\n",
       "       ...,\n",
       "       [0.95289641, 0.04710359],\n",
       "       [0.96570544, 0.03429456],\n",
       "       [0.85684936, 0.14315064]])"
      ]
     },
     "execution_count": 88,
     "metadata": {},
     "output_type": "execute_result"
    }
   ],
   "source": [
    "# probability prediction for target variable\n",
    "y_prob3 = classifier3.predict_proba(xtest)\n",
    "y_prob3"
   ]
  },
  {
   "cell_type": "markdown",
   "id": "724d26cf",
   "metadata": {},
   "source": [
    "# Model Validation"
   ]
  },
  {
   "cell_type": "code",
   "execution_count": 89,
   "id": "a7cec19c",
   "metadata": {},
   "outputs": [
    {
     "data": {
      "text/plain": [
       "0.8917394669910428"
      ]
     },
     "execution_count": 89,
     "metadata": {},
     "output_type": "execute_result"
    }
   ],
   "source": [
    "from sklearn.metrics import accuracy_score\n",
    "accuracy_score(ytest,y_pred4)"
   ]
  },
  {
   "cell_type": "code",
   "execution_count": 90,
   "id": "3ecbfe4e",
   "metadata": {},
   "outputs": [
    {
     "data": {
      "text/plain": [
       "0.5925810539983157"
      ]
     },
     "execution_count": 90,
     "metadata": {},
     "output_type": "execute_result"
    }
   ],
   "source": [
    "roc_score3 = roc_auc_score(ytest, y_pred4)\n",
    "roc_score3\n"
   ]
  },
  {
   "cell_type": "code",
   "execution_count": 91,
   "id": "0af397af",
   "metadata": {},
   "outputs": [
    {
     "data": {
      "image/png": "[encoded data removed]",
      "text/plain": [
       "<Figure size 432x288 with 1 Axes>"
      ]
     },
     "metadata": {
      "needs_background": "light"
     },
     "output_type": "display_data"
    }
   ],
   "source": [
    "fpr, tpr, thresholds = roc_curve(ytest,y_prob3[:,1])\n",
    "plt.plot(fpr, tpr, label='Logistic Regression (area=%0.2f)'% roc_score3)\n",
    "plt.plot([0, 1], [0, 1],'r--')\n",
    "plt.xlim([0.0, 1.0])\n",
    "plt.ylim([0.0, 1.05])\n",
    "plt.xlabel('False Positive Rate')\n",
    "plt.ylabel('True Positive Rate')\n",
    "plt.title('Receiver operating characteristic')\n",
    "plt.legend(loc=\"lower right\")\n",
    "plt.show()"
   ]
  },
  {
   "cell_type": "code",
   "execution_count": 92,
   "id": "416cd152",
   "metadata": {},
   "outputs": [
    {
     "name": "stdout",
     "output_type": "stream",
     "text": [
      "              precision    recall  f1-score   support\n",
      "\n",
      "           0       0.90      0.98      0.94     39922\n",
      "           1       0.60      0.21      0.31      5289\n",
      "\n",
      "    accuracy                           0.89     45211\n",
      "   macro avg       0.75      0.59      0.62     45211\n",
      "weighted avg       0.87      0.89      0.87     45211\n",
      "\n"
     ]
    }
   ],
   "source": [
    "cr3 = classification_report(ytest,y_pred4)\n",
    "print(cr)"
   ]
  },
  {
   "cell_type": "code",
   "execution_count": 93,
   "id": "2450d5dc",
   "metadata": {},
   "outputs": [
    {
     "data": {
      "text/plain": [
       "array([0.        , 0.00012509, 0.00012509, 0.00025019, 0.00025019])"
      ]
     },
     "execution_count": 93,
     "metadata": {},
     "output_type": "execute_result"
    }
   ],
   "source": [
    "fpr[:5,]"
   ]
  },
  {
   "cell_type": "code",
   "execution_count": 94,
   "id": "94fa38ec",
   "metadata": {},
   "outputs": [
    {
     "data": {
      "text/plain": [
       "array([0.        , 0.        , 0.00381316, 0.00381316, 0.00571973])"
      ]
     },
     "execution_count": 94,
     "metadata": {},
     "output_type": "execute_result"
    }
   ],
   "source": [
    "tpr[:5,]"
   ]
  },
  {
   "cell_type": "code",
   "execution_count": null,
   "id": "34849479",
   "metadata": {},
   "outputs": [],
   "source": []
  },
  {
   "cell_type": "code",
   "execution_count": null,
   "id": "bb986baa",
   "metadata": {},
   "outputs": [],
   "source": []
  },
  {
   "cell_type": "code",
   "execution_count": null,
   "id": "79443d72",
   "metadata": {},
   "outputs": [],
   "source": []
  }
 ],
 "metadata": {
  "kernelspec": {
   "display_name": "Python 3 (ipykernel)",
   "language": "python",
   "name": "python3"
  },
  "language_info": {
   "codemirror_mode": {
    "name": "ipython",
    "version": 3
   },
   "file_extension": ".py",
   "mimetype": "text/x-python",
   "name": "python",
   "nbconvert_exporter": "python",
   "pygments_lexer": "ipython3",
   "version": "3.9.12"
  }
 },
 "nbformat": 4,
 "nbformat_minor": 5
}
